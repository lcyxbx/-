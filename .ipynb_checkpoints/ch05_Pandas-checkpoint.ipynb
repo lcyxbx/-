{
 "cells": [
  {
   "cell_type": "markdown",
   "id": "4a30db81",
   "metadata": {},
   "source": [
    "## 1 Series"
   ]
  },
  {
   "cell_type": "code",
   "execution_count": null,
   "id": "cf7722c3",
   "metadata": {},
   "outputs": [],
   "source": [
    "import pandas as pd\n",
    "import numpy as np"
   ]
  },
  {
   "cell_type": "code",
   "execution_count": null,
   "id": "bfdf246d",
   "metadata": {},
   "outputs": [],
   "source": [
    "# 构造函数1：array参数\n",
    "obj = pd.Series([4, 7, -5, 3])\n",
    "obj"
   ]
  },
  {
   "cell_type": "code",
   "execution_count": null,
   "id": "b59efd6c",
   "metadata": {},
   "outputs": [],
   "source": [
    "obj[[1,3]]"
   ]
  },
  {
   "cell_type": "code",
   "execution_count": null,
   "id": "a209f3a8",
   "metadata": {},
   "outputs": [],
   "source": [
    "obj[1:3]"
   ]
  },
  {
   "cell_type": "code",
   "execution_count": null,
   "id": "b8b929eb",
   "metadata": {},
   "outputs": [],
   "source": [
    "obj.drop(2)"
   ]
  },
  {
   "cell_type": "code",
   "execution_count": null,
   "id": "2a202531",
   "metadata": {},
   "outputs": [],
   "source": [
    "obj"
   ]
  },
  {
   "cell_type": "code",
   "execution_count": null,
   "id": "dc1c0180",
   "metadata": {},
   "outputs": [],
   "source": [
    "obj.values"
   ]
  },
  {
   "cell_type": "code",
   "execution_count": null,
   "id": "16f476d9",
   "metadata": {},
   "outputs": [],
   "source": [
    "# 构造函数2：array、index参数\n",
    "obj2 = pd.Series([4, 7, -5, 3], index=['a','b','c','d'])\n",
    "obj2"
   ]
  },
  {
   "cell_type": "code",
   "execution_count": null,
   "id": "d0affe7e",
   "metadata": {},
   "outputs": [],
   "source": [
    "obj2['b':'d']  # Series利用标签切片包含末端"
   ]
  },
  {
   "cell_type": "code",
   "execution_count": null,
   "id": "bb0df4ec",
   "metadata": {},
   "outputs": [],
   "source": [
    "obj.index"
   ]
  },
  {
   "cell_type": "code",
   "execution_count": null,
   "id": "cecd2ac6",
   "metadata": {},
   "outputs": [],
   "source": [
    "obj2.index"
   ]
  },
  {
   "cell_type": "code",
   "execution_count": null,
   "id": "34a7649c",
   "metadata": {},
   "outputs": [],
   "source": [
    "obj2['a']"
   ]
  },
  {
   "cell_type": "code",
   "execution_count": null,
   "id": "e5e068f5",
   "metadata": {},
   "outputs": [],
   "source": [
    "obj2[['a','c','d']]"
   ]
  },
  {
   "cell_type": "code",
   "execution_count": null,
   "id": "3d5ab250",
   "metadata": {},
   "outputs": [],
   "source": [
    "obj2[obj2 > 0]"
   ]
  },
  {
   "cell_type": "code",
   "execution_count": null,
   "id": "38e17f84",
   "metadata": {},
   "outputs": [],
   "source": [
    "obj2 * 2"
   ]
  },
  {
   "cell_type": "code",
   "execution_count": null,
   "id": "5f141390",
   "metadata": {},
   "outputs": [],
   "source": [
    "sdata = {'Ohio': 35000, 'Texas':71000, 'Oregon':16000, 'Utah':5000}\n",
    "states = ['California', 'Ohio', 'Oregon', 'Texas']"
   ]
  },
  {
   "cell_type": "code",
   "execution_count": null,
   "id": "eac8d629",
   "metadata": {},
   "outputs": [],
   "source": [
    "# 构造函数3：dict字典参数\n",
    "obj3 = pd.Series(sdata)\n",
    "obj3"
   ]
  },
  {
   "cell_type": "code",
   "execution_count": null,
   "id": "a46b7245",
   "metadata": {},
   "outputs": [],
   "source": [
    "obj4 = pd.Series(sdata, index=states)\n",
    "obj4"
   ]
  },
  {
   "cell_type": "code",
   "execution_count": null,
   "id": "6b522fbd",
   "metadata": {},
   "outputs": [],
   "source": [
    "pd.isnull(obj4)  # 等价obj4.isnull()"
   ]
  },
  {
   "cell_type": "code",
   "execution_count": null,
   "id": "45df878b",
   "metadata": {},
   "outputs": [],
   "source": [
    "obj4.name = 'population'\n",
    "obj4.index.name = 'state'\n",
    "obj4"
   ]
  },
  {
   "cell_type": "code",
   "execution_count": null,
   "id": "64e233cb",
   "metadata": {},
   "outputs": [],
   "source": [
    "# 通过index属性更改索引\n",
    "obj.index = ['Bob', 'Emily', 'Eason', 'Sukie']\n",
    "obj"
   ]
  },
  {
   "cell_type": "markdown",
   "id": "533882c3",
   "metadata": {},
   "source": [
    "## 2 DataFrame"
   ]
  },
  {
   "cell_type": "code",
   "execution_count": 1,
   "id": "b3237f2a",
   "metadata": {},
   "outputs": [],
   "source": [
    "import pandas as pd\n",
    "import numpy as np"
   ]
  },
  {
   "cell_type": "code",
   "execution_count": 16,
   "id": "b2e2e612",
   "metadata": {},
   "outputs": [
    {
     "data": {
      "text/html": [
       "<div>\n",
       "<style scoped>\n",
       "    .dataframe tbody tr th:only-of-type {\n",
       "        vertical-align: middle;\n",
       "    }\n",
       "\n",
       "    .dataframe tbody tr th {\n",
       "        vertical-align: top;\n",
       "    }\n",
       "\n",
       "    .dataframe thead th {\n",
       "        text-align: right;\n",
       "    }\n",
       "</style>\n",
       "<table border=\"1\" class=\"dataframe\">\n",
       "  <thead>\n",
       "    <tr style=\"text-align: right;\">\n",
       "      <th></th>\n",
       "      <th>state</th>\n",
       "      <th>year</th>\n",
       "      <th>pop</th>\n",
       "    </tr>\n",
       "  </thead>\n",
       "  <tbody>\n",
       "    <tr>\n",
       "      <th>0</th>\n",
       "      <td>Ohio</td>\n",
       "      <td>2000</td>\n",
       "      <td>1.5</td>\n",
       "    </tr>\n",
       "    <tr>\n",
       "      <th>1</th>\n",
       "      <td>Ohio</td>\n",
       "      <td>2001</td>\n",
       "      <td>1.7</td>\n",
       "    </tr>\n",
       "    <tr>\n",
       "      <th>2</th>\n",
       "      <td>Ohio</td>\n",
       "      <td>2002</td>\n",
       "      <td>3.6</td>\n",
       "    </tr>\n",
       "    <tr>\n",
       "      <th>3</th>\n",
       "      <td>Nevada</td>\n",
       "      <td>2001</td>\n",
       "      <td>2.4</td>\n",
       "    </tr>\n",
       "    <tr>\n",
       "      <th>4</th>\n",
       "      <td>Nevada</td>\n",
       "      <td>2002</td>\n",
       "      <td>2.9</td>\n",
       "    </tr>\n",
       "    <tr>\n",
       "      <th>5</th>\n",
       "      <td>Nevada</td>\n",
       "      <td>2003</td>\n",
       "      <td>3.2</td>\n",
       "    </tr>\n",
       "  </tbody>\n",
       "</table>\n",
       "</div>"
      ],
      "text/plain": [
       "    state  year  pop\n",
       "0    Ohio  2000  1.5\n",
       "1    Ohio  2001  1.7\n",
       "2    Ohio  2002  3.6\n",
       "3  Nevada  2001  2.4\n",
       "4  Nevada  2002  2.9\n",
       "5  Nevada  2003  3.2"
      ]
     },
     "execution_count": 16,
     "metadata": {},
     "output_type": "execute_result"
    }
   ],
   "source": [
    "data = {'state': ['Ohio', 'Ohio', 'Ohio', 'Nevada', 'Nevada', 'Nevada'],\n",
    "        'year': [2000, 2001, 2002, 2001, 2002, 2003],\n",
    "        'pop': [1.5, 1.7, 3.6, 2.4, 2.9, 3.2]}\n",
    "\n",
    "frame = pd.DataFrame(data)\n",
    "frame"
   ]
  },
  {
   "cell_type": "code",
   "execution_count": 17,
   "id": "7ec7a164",
   "metadata": {},
   "outputs": [
    {
     "data": {
      "text/html": [
       "<div>\n",
       "<style scoped>\n",
       "    .dataframe tbody tr th:only-of-type {\n",
       "        vertical-align: middle;\n",
       "    }\n",
       "\n",
       "    .dataframe tbody tr th {\n",
       "        vertical-align: top;\n",
       "    }\n",
       "\n",
       "    .dataframe thead th {\n",
       "        text-align: right;\n",
       "    }\n",
       "</style>\n",
       "<table border=\"1\" class=\"dataframe\">\n",
       "  <thead>\n",
       "    <tr style=\"text-align: right;\">\n",
       "      <th></th>\n",
       "      <th>state</th>\n",
       "      <th>year</th>\n",
       "      <th>pop</th>\n",
       "    </tr>\n",
       "  </thead>\n",
       "  <tbody>\n",
       "    <tr>\n",
       "      <th>1</th>\n",
       "      <td>Ohio</td>\n",
       "      <td>2001</td>\n",
       "      <td>1.7</td>\n",
       "    </tr>\n",
       "    <tr>\n",
       "      <th>2</th>\n",
       "      <td>Ohio</td>\n",
       "      <td>2002</td>\n",
       "      <td>3.6</td>\n",
       "    </tr>\n",
       "    <tr>\n",
       "      <th>3</th>\n",
       "      <td>Nevada</td>\n",
       "      <td>2001</td>\n",
       "      <td>2.4</td>\n",
       "    </tr>\n",
       "    <tr>\n",
       "      <th>4</th>\n",
       "      <td>Nevada</td>\n",
       "      <td>2002</td>\n",
       "      <td>2.9</td>\n",
       "    </tr>\n",
       "    <tr>\n",
       "      <th>5</th>\n",
       "      <td>Nevada</td>\n",
       "      <td>2003</td>\n",
       "      <td>3.2</td>\n",
       "    </tr>\n",
       "  </tbody>\n",
       "</table>\n",
       "</div>"
      ],
      "text/plain": [
       "    state  year  pop\n",
       "1    Ohio  2001  1.7\n",
       "2    Ohio  2002  3.6\n",
       "3  Nevada  2001  2.4\n",
       "4  Nevada  2002  2.9\n",
       "5  Nevada  2003  3.2"
      ]
     },
     "execution_count": 17,
     "metadata": {},
     "output_type": "execute_result"
    }
   ],
   "source": [
    "frame.drop(0)"
   ]
  },
  {
   "cell_type": "code",
   "execution_count": null,
   "id": "231efe7c",
   "metadata": {},
   "outputs": [],
   "source": [
    "frame[['state','pop']]"
   ]
  },
  {
   "cell_type": "code",
   "execution_count": null,
   "id": "357236f1",
   "metadata": {},
   "outputs": [],
   "source": [
    "frame.head()"
   ]
  },
  {
   "cell_type": "code",
   "execution_count": null,
   "id": "fb9b0d6e",
   "metadata": {},
   "outputs": [],
   "source": [
    "pd.DataFrame(data, columns=['year', 'state', 'pop', 'debt'])  # 指定列顺序"
   ]
  },
  {
   "cell_type": "code",
   "execution_count": null,
   "id": "dd4c09b7",
   "metadata": {},
   "outputs": [],
   "source": [
    "frame2 = pd.DataFrame(data, columns=['year', 'state', 'pop', 'debt'], index=['one','two','three','four','five','six'])\n",
    "frame2"
   ]
  },
  {
   "cell_type": "code",
   "execution_count": null,
   "id": "4a0a2f91",
   "metadata": {},
   "outputs": [],
   "source": [
    "frame2.columns  # 查看列字段名"
   ]
  },
  {
   "cell_type": "code",
   "execution_count": null,
   "id": "723ad1f5",
   "metadata": {},
   "outputs": [],
   "source": [
    "frame2['state']  # 查看某列记录----通过类似字典标记/属性，可以“将DataFrame的列获取为一个Series”\n",
    "# frame2.state  # IPython提供了类似属性的访问（即frame2.year）和tab补全"
   ]
  },
  {
   "cell_type": "code",
   "execution_count": null,
   "id": "f6e22e1c",
   "metadata": {},
   "outputs": [],
   "source": [
    "frame2.loc['three']  # 查看某行记录"
   ]
  },
  {
   "cell_type": "code",
   "execution_count": null,
   "id": "eb8d8e76",
   "metadata": {},
   "outputs": [],
   "source": [
    "frame2['debt']= 16.5\n",
    "frame2"
   ]
  },
  {
   "cell_type": "code",
   "execution_count": null,
   "id": "5c07fb69",
   "metadata": {},
   "outputs": [],
   "source": [
    "frame2['debt']= np.arange(6.)\n",
    "frame2"
   ]
  },
  {
   "cell_type": "code",
   "execution_count": null,
   "id": "acd60aae",
   "metadata": {},
   "outputs": [],
   "source": [
    "val = pd.Series([-1.2, -1.5, -1.7], index=['two', 'four', 'five'])  # 通过Series修改DataFrame的值\n",
    "frame2['debt'] = val\n",
    "frame2"
   ]
  },
  {
   "cell_type": "code",
   "execution_count": null,
   "id": "035adb9c",
   "metadata": {},
   "outputs": [],
   "source": [
    "frame2['eastern'] = frame2.state == 'Ohio'\n",
    "frame2"
   ]
  },
  {
   "cell_type": "code",
   "execution_count": null,
   "id": "3705e38e",
   "metadata": {},
   "outputs": [],
   "source": [
    "del frame2['eastern']  # del 删除列\n",
    "frame2.columns"
   ]
  },
  {
   "cell_type": "code",
   "execution_count": null,
   "id": "7c9b2c23",
   "metadata": {},
   "outputs": [],
   "source": [
    "# 嵌套字典：外部键——列索引、内部键——行索引\n",
    "pop = {'Nevada': {2001: 2.4, 2002: 2.9}, \n",
    "       'Ohio': {2000: 1.5, 2001: 1.7, 2002: 3.6}}\n",
    "frame3 = pd.DataFrame(pop)\n",
    "frame3"
   ]
  },
  {
   "cell_type": "code",
   "execution_count": null,
   "id": "c05579b3",
   "metadata": {},
   "outputs": [],
   "source": [
    "frame3.T"
   ]
  },
  {
   "cell_type": "code",
   "execution_count": null,
   "id": "a3076f8c",
   "metadata": {},
   "outputs": [],
   "source": [
    "# 给行/列索引命名\n",
    "frame3.index.name = 'year'; frame3.columns.name = 'status'\n",
    "frame3"
   ]
  },
  {
   "cell_type": "code",
   "execution_count": null,
   "id": "34c3b8db",
   "metadata": {},
   "outputs": [],
   "source": [
    "frame2"
   ]
  },
  {
   "cell_type": "code",
   "execution_count": null,
   "id": "161f6ce9",
   "metadata": {},
   "outputs": [],
   "source": [
    "frame2.values"
   ]
  },
  {
   "cell_type": "code",
   "execution_count": null,
   "id": "e13459b6",
   "metadata": {},
   "outputs": [],
   "source": [
    "frame4 = pd.DataFrame({'year':[2000, 2001],\n",
    "                       'state':['Ohio', 'Ohio'],\n",
    "                       'pop':[1.1, 1.2],\n",
    "                       'debt':[3.6,3.7]})\n",
    "# append：连接另一个df对象\n",
    "frame5 = frame2.append(frame4)\n",
    "frame5"
   ]
  },
  {
   "cell_type": "code",
   "execution_count": null,
   "id": "06dbabba",
   "metadata": {},
   "outputs": [],
   "source": [
    "frame.columns[1]"
   ]
  },
  {
   "cell_type": "code",
   "execution_count": null,
   "id": "b139dfc6",
   "metadata": {},
   "outputs": [],
   "source": [
    "data = pd.DataFrame(np.arange(16).reshape(4,4), index=['row1','row2','row3','row4'], columns=['column1','column2','column3','column4'])\n",
    "data"
   ]
  },
  {
   "cell_type": "code",
   "execution_count": null,
   "id": "00caf62b",
   "metadata": {},
   "outputs": [],
   "source": [
    "data < 5"
   ]
  },
  {
   "cell_type": "code",
   "execution_count": null,
   "id": "52144f2f",
   "metadata": {},
   "outputs": [],
   "source": [
    "data[data < 5] = 0\n",
    "data"
   ]
  },
  {
   "cell_type": "markdown",
   "id": "ce7fcd04",
   "metadata": {},
   "source": [
    "### 2.1 DataFrame_用loc和iloc进行选取"
   ]
  },
  {
   "cell_type": "code",
   "execution_count": null,
   "id": "9a35aea8",
   "metadata": {},
   "outputs": [],
   "source": [
    "data = pd.DataFrame(np.arange(16).reshape(4,4), index=['row1','row2','row3','row4'], columns=['column1','column2','column3','column4'])\n",
    "data"
   ]
  },
  {
   "cell_type": "code",
   "execution_count": null,
   "id": "73d6e2c7",
   "metadata": {},
   "outputs": [],
   "source": [
    "data.loc['row2', ['column2', 'column3']]  # 选择第二行的二三列"
   ]
  },
  {
   "cell_type": "code",
   "execution_count": null,
   "id": "ff93b57b",
   "metadata": {},
   "outputs": [],
   "source": [
    "data.iloc[1, [3, 2, 1]]  # 选择第二行的二三列"
   ]
  },
  {
   "cell_type": "code",
   "execution_count": null,
   "id": "82c81fd0",
   "metadata": {},
   "outputs": [],
   "source": [
    "data.iloc[0]  # ⽤iloc和整数进⾏选取"
   ]
  },
  {
   "cell_type": "code",
   "execution_count": null,
   "id": "167cb18a",
   "metadata": {},
   "outputs": [],
   "source": [
    "data.iloc[[1, 2], [3, 2, 1]]"
   ]
  },
  {
   "cell_type": "code",
   "execution_count": null,
   "id": "2ae8003e",
   "metadata": {},
   "outputs": [],
   "source": [
    "data.iloc[:, :3][data.column3 > 5]"
   ]
  },
  {
   "cell_type": "markdown",
   "id": "2fdbfa07",
   "metadata": {},
   "source": [
    "### 2.2 DataFrame_算术运算和数据对齐"
   ]
  },
  {
   "cell_type": "code",
   "execution_count": null,
   "id": "b7411cb2",
   "metadata": {},
   "outputs": [],
   "source": [
    "s1 = pd.Series([7.3, -2.5, 3.4, 1.5], index=['a', 'c', 'd', 'e'])\n",
    "s2 = pd.Series([-2.1, 3.6, -1.5, 4, 3.1], index=['a', 'c', 'e', 'f', 'g'])\n",
    "print(s1)\n",
    "print(s2)"
   ]
  },
  {
   "cell_type": "code",
   "execution_count": null,
   "id": "94a4680f",
   "metadata": {},
   "outputs": [],
   "source": [
    "s1+s2"
   ]
  },
  {
   "cell_type": "code",
   "execution_count": null,
   "id": "a1fdbe92",
   "metadata": {},
   "outputs": [],
   "source": [
    "s1.add(s2, fill_value=0)  # 相加找不到对象时用0填充"
   ]
  },
  {
   "cell_type": "markdown",
   "id": "06032e62",
   "metadata": {},
   "source": [
    "### 2.3 函数应用和映射 "
   ]
  },
  {
   "cell_type": "code",
   "execution_count": 2,
   "id": "8de93b86",
   "metadata": {},
   "outputs": [
    {
     "data": {
      "text/html": [
       "<div>\n",
       "<style scoped>\n",
       "    .dataframe tbody tr th:only-of-type {\n",
       "        vertical-align: middle;\n",
       "    }\n",
       "\n",
       "    .dataframe tbody tr th {\n",
       "        vertical-align: top;\n",
       "    }\n",
       "\n",
       "    .dataframe thead th {\n",
       "        text-align: right;\n",
       "    }\n",
       "</style>\n",
       "<table border=\"1\" class=\"dataframe\">\n",
       "  <thead>\n",
       "    <tr style=\"text-align: right;\">\n",
       "      <th></th>\n",
       "      <th>0</th>\n",
       "      <th>1</th>\n",
       "      <th>2</th>\n",
       "    </tr>\n",
       "  </thead>\n",
       "  <tbody>\n",
       "    <tr>\n",
       "      <th>0</th>\n",
       "      <td>-0.135632</td>\n",
       "      <td>0.573502</td>\n",
       "      <td>0.610899</td>\n",
       "    </tr>\n",
       "    <tr>\n",
       "      <th>1</th>\n",
       "      <td>2.068337</td>\n",
       "      <td>-1.212083</td>\n",
       "      <td>-0.045990</td>\n",
       "    </tr>\n",
       "    <tr>\n",
       "      <th>2</th>\n",
       "      <td>-2.205822</td>\n",
       "      <td>-0.516919</td>\n",
       "      <td>-1.681867</td>\n",
       "    </tr>\n",
       "    <tr>\n",
       "      <th>3</th>\n",
       "      <td>0.351681</td>\n",
       "      <td>0.348227</td>\n",
       "      <td>-0.188125</td>\n",
       "    </tr>\n",
       "  </tbody>\n",
       "</table>\n",
       "</div>"
      ],
      "text/plain": [
       "          0         1         2\n",
       "0 -0.135632  0.573502  0.610899\n",
       "1  2.068337 -1.212083 -0.045990\n",
       "2 -2.205822 -0.516919 -1.681867\n",
       "3  0.351681  0.348227 -0.188125"
      ]
     },
     "execution_count": 2,
     "metadata": {},
     "output_type": "execute_result"
    }
   ],
   "source": [
    "frame = pd.DataFrame(np.random.randn(4,3))\n",
    "frame"
   ]
  },
  {
   "cell_type": "code",
   "execution_count": 3,
   "id": "a0458796",
   "metadata": {},
   "outputs": [],
   "source": [
    "f = lambda x: x.max()-x.min()"
   ]
  },
  {
   "cell_type": "code",
   "execution_count": 4,
   "id": "2b7ebdc3",
   "metadata": {},
   "outputs": [
    {
     "data": {
      "text/plain": [
       "0    4.274159\n",
       "1    1.785585\n",
       "2    2.292765\n",
       "dtype: float64"
      ]
     },
     "execution_count": 4,
     "metadata": {},
     "output_type": "execute_result"
    }
   ],
   "source": [
    "frame.apply(f)  # 默认axis=0\n",
    "#frame.apply(f, axis=1)"
   ]
  },
  {
   "cell_type": "code",
   "execution_count": 5,
   "id": "92a8ebfe",
   "metadata": {},
   "outputs": [],
   "source": [
    "def f(x):\n",
    "    return pd.Series([x.min(), x.max()], index=['min', 'max'])"
   ]
  },
  {
   "cell_type": "code",
   "execution_count": 7,
   "id": "1281c3d5",
   "metadata": {},
   "outputs": [
    {
     "data": {
      "text/html": [
       "<div>\n",
       "<style scoped>\n",
       "    .dataframe tbody tr th:only-of-type {\n",
       "        vertical-align: middle;\n",
       "    }\n",
       "\n",
       "    .dataframe tbody tr th {\n",
       "        vertical-align: top;\n",
       "    }\n",
       "\n",
       "    .dataframe thead th {\n",
       "        text-align: right;\n",
       "    }\n",
       "</style>\n",
       "<table border=\"1\" class=\"dataframe\">\n",
       "  <thead>\n",
       "    <tr style=\"text-align: right;\">\n",
       "      <th></th>\n",
       "      <th>0</th>\n",
       "      <th>1</th>\n",
       "      <th>2</th>\n",
       "    </tr>\n",
       "  </thead>\n",
       "  <tbody>\n",
       "    <tr>\n",
       "      <th>min</th>\n",
       "      <td>-2.205822</td>\n",
       "      <td>-1.212083</td>\n",
       "      <td>-1.681867</td>\n",
       "    </tr>\n",
       "    <tr>\n",
       "      <th>max</th>\n",
       "      <td>2.068337</td>\n",
       "      <td>0.573502</td>\n",
       "      <td>0.610899</td>\n",
       "    </tr>\n",
       "  </tbody>\n",
       "</table>\n",
       "</div>"
      ],
      "text/plain": [
       "            0         1         2\n",
       "min -2.205822 -1.212083 -1.681867\n",
       "max  2.068337  0.573502  0.610899"
      ]
     },
     "execution_count": 7,
     "metadata": {},
     "output_type": "execute_result"
    }
   ],
   "source": [
    "frame.apply(f)  # 调用自定义函数f(x)"
   ]
  },
  {
   "cell_type": "code",
   "execution_count": 8,
   "id": "b8c1d3f4",
   "metadata": {},
   "outputs": [
    {
     "data": {
      "text/html": [
       "<div>\n",
       "<style scoped>\n",
       "    .dataframe tbody tr th:only-of-type {\n",
       "        vertical-align: middle;\n",
       "    }\n",
       "\n",
       "    .dataframe tbody tr th {\n",
       "        vertical-align: top;\n",
       "    }\n",
       "\n",
       "    .dataframe thead th {\n",
       "        text-align: right;\n",
       "    }\n",
       "</style>\n",
       "<table border=\"1\" class=\"dataframe\">\n",
       "  <thead>\n",
       "    <tr style=\"text-align: right;\">\n",
       "      <th></th>\n",
       "      <th>0</th>\n",
       "      <th>1</th>\n",
       "      <th>2</th>\n",
       "    </tr>\n",
       "  </thead>\n",
       "  <tbody>\n",
       "    <tr>\n",
       "      <th>0</th>\n",
       "      <td>-0.14</td>\n",
       "      <td>0.57</td>\n",
       "      <td>0.61</td>\n",
       "    </tr>\n",
       "    <tr>\n",
       "      <th>1</th>\n",
       "      <td>2.07</td>\n",
       "      <td>-1.21</td>\n",
       "      <td>-0.05</td>\n",
       "    </tr>\n",
       "    <tr>\n",
       "      <th>2</th>\n",
       "      <td>-2.21</td>\n",
       "      <td>-0.52</td>\n",
       "      <td>-1.68</td>\n",
       "    </tr>\n",
       "    <tr>\n",
       "      <th>3</th>\n",
       "      <td>0.35</td>\n",
       "      <td>0.35</td>\n",
       "      <td>-0.19</td>\n",
       "    </tr>\n",
       "  </tbody>\n",
       "</table>\n",
       "</div>"
      ],
      "text/plain": [
       "       0      1      2\n",
       "0  -0.14   0.57   0.61\n",
       "1   2.07  -1.21  -0.05\n",
       "2  -2.21  -0.52  -1.68\n",
       "3   0.35   0.35  -0.19"
      ]
     },
     "execution_count": 8,
     "metadata": {},
     "output_type": "execute_result"
    }
   ],
   "source": [
    "format = lambda x: '%.2f' %x\n",
    "frame.applymap(format)  # applymap格式化字符串"
   ]
  },
  {
   "cell_type": "code",
   "execution_count": 10,
   "id": "7467e366",
   "metadata": {},
   "outputs": [
    {
     "data": {
      "text/plain": [
       "0    -0.14\n",
       "1     2.07\n",
       "2    -2.21\n",
       "3     0.35\n",
       "Name: 0, dtype: object"
      ]
     },
     "execution_count": 10,
     "metadata": {},
     "output_type": "execute_result"
    }
   ],
   "source": [
    "frame[0].map(format)  # map是Series的格式化字符串方法"
   ]
  },
  {
   "cell_type": "code",
   "execution_count": 14,
   "id": "f2cd78c8",
   "metadata": {},
   "outputs": [],
   "source": [
    "frame[0] = frame[0]*10000"
   ]
  },
  {
   "cell_type": "code",
   "execution_count": 15,
   "id": "9f546a34",
   "metadata": {},
   "outputs": [
    {
     "data": {
      "text/html": [
       "<div>\n",
       "<style scoped>\n",
       "    .dataframe tbody tr th:only-of-type {\n",
       "        vertical-align: middle;\n",
       "    }\n",
       "\n",
       "    .dataframe tbody tr th {\n",
       "        vertical-align: top;\n",
       "    }\n",
       "\n",
       "    .dataframe thead th {\n",
       "        text-align: right;\n",
       "    }\n",
       "</style>\n",
       "<table border=\"1\" class=\"dataframe\">\n",
       "  <thead>\n",
       "    <tr style=\"text-align: right;\">\n",
       "      <th></th>\n",
       "      <th>0</th>\n",
       "      <th>1</th>\n",
       "      <th>2</th>\n",
       "    </tr>\n",
       "  </thead>\n",
       "  <tbody>\n",
       "    <tr>\n",
       "      <th>0</th>\n",
       "      <td>-1356.315037</td>\n",
       "      <td>0.573502</td>\n",
       "      <td>0.610899</td>\n",
       "    </tr>\n",
       "    <tr>\n",
       "      <th>1</th>\n",
       "      <td>20683.365146</td>\n",
       "      <td>-1.212083</td>\n",
       "      <td>-0.045990</td>\n",
       "    </tr>\n",
       "    <tr>\n",
       "      <th>2</th>\n",
       "      <td>-22058.223438</td>\n",
       "      <td>-0.516919</td>\n",
       "      <td>-1.681867</td>\n",
       "    </tr>\n",
       "    <tr>\n",
       "      <th>3</th>\n",
       "      <td>3516.805035</td>\n",
       "      <td>0.348227</td>\n",
       "      <td>-0.188125</td>\n",
       "    </tr>\n",
       "  </tbody>\n",
       "</table>\n",
       "</div>"
      ],
      "text/plain": [
       "              0         1         2\n",
       "0  -1356.315037  0.573502  0.610899\n",
       "1  20683.365146 -1.212083 -0.045990\n",
       "2 -22058.223438 -0.516919 -1.681867\n",
       "3   3516.805035  0.348227 -0.188125"
      ]
     },
     "execution_count": 15,
     "metadata": {},
     "output_type": "execute_result"
    }
   ],
   "source": [
    "frame"
   ]
  },
  {
   "cell_type": "code",
   "execution_count": null,
   "id": "20ce16bc",
   "metadata": {},
   "outputs": [],
   "source": []
  }
 ],
 "metadata": {
  "kernelspec": {
   "display_name": "Python 3 (ipykernel)",
   "language": "python",
   "name": "python3"
  },
  "language_info": {
   "codemirror_mode": {
    "name": "ipython",
    "version": 3
   },
   "file_extension": ".py",
   "mimetype": "text/x-python",
   "name": "python",
   "nbconvert_exporter": "python",
   "pygments_lexer": "ipython3",
   "version": "3.9.13"
  }
 },
 "nbformat": 4,
 "nbformat_minor": 5
}

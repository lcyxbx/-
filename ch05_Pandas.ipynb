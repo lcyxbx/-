{
 "cells": [
  {
   "cell_type": "markdown",
   "id": "4a30db81",
   "metadata": {},
   "source": [
    "## 1 Series"
   ]
  },
  {
   "cell_type": "code",
   "execution_count": null,
   "id": "cf7722c3",
   "metadata": {},
   "outputs": [],
   "source": [
    "import pandas as pd\n",
    "import numpy as np"
   ]
  },
  {
   "cell_type": "code",
   "execution_count": null,
   "id": "bfdf246d",
   "metadata": {},
   "outputs": [],
   "source": [
    "# 构造函数1：array参数\n",
    "obj = pd.Series([4, 7, -5, 3])\n",
    "obj"
   ]
  },
  {
   "cell_type": "code",
   "execution_count": null,
   "id": "247064e7",
   "metadata": {},
   "outputs": [],
   "source": [
    "obj[[1,3]]"
   ]
  },
  {
   "cell_type": "code",
   "execution_count": null,
   "id": "d7845dbb",
   "metadata": {},
   "outputs": [],
   "source": [
    "obj[1:3]"
   ]
  },
  {
   "cell_type": "code",
   "execution_count": null,
   "id": "9bb343a2",
   "metadata": {},
   "outputs": [],
   "source": [
    "obj.drop(2)"
   ]
  },
  {
   "cell_type": "code",
   "execution_count": null,
   "id": "77494518",
   "metadata": {},
   "outputs": [],
   "source": [
    "obj"
   ]
  },
  {
   "cell_type": "code",
   "execution_count": null,
   "id": "dc1c0180",
   "metadata": {},
   "outputs": [],
   "source": [
    "obj.values"
   ]
  },
  {
   "cell_type": "code",
   "execution_count": null,
   "id": "16f476d9",
   "metadata": {},
   "outputs": [],
   "source": [
    "# 构造函数2：array、index参数\n",
    "obj2 = pd.Series([4, 7, -5, 3], index=['a','b','c','d'])\n",
    "obj2"
   ]
  },
  {
   "cell_type": "code",
   "execution_count": null,
   "id": "0cd91f45",
   "metadata": {},
   "outputs": [],
   "source": [
    "obj2['b':'d']  # Series利用标签切片包含末端"
   ]
  },
  {
   "cell_type": "code",
   "execution_count": null,
   "id": "bb0df4ec",
   "metadata": {},
   "outputs": [],
   "source": [
    "obj.index"
   ]
  },
  {
   "cell_type": "code",
   "execution_count": null,
   "id": "cecd2ac6",
   "metadata": {},
   "outputs": [],
   "source": [
    "obj2.index"
   ]
  },
  {
   "cell_type": "code",
   "execution_count": null,
   "id": "34a7649c",
   "metadata": {},
   "outputs": [],
   "source": [
    "obj2['a']"
   ]
  },
  {
   "cell_type": "code",
   "execution_count": null,
   "id": "e5e068f5",
   "metadata": {},
   "outputs": [],
   "source": [
    "obj2[['a','c','d']]"
   ]
  },
  {
   "cell_type": "code",
   "execution_count": null,
   "id": "3d5ab250",
   "metadata": {},
   "outputs": [],
   "source": [
    "obj2[obj2 > 0]"
   ]
  },
  {
   "cell_type": "code",
   "execution_count": null,
   "id": "38e17f84",
   "metadata": {},
   "outputs": [],
   "source": [
    "obj2 * 2"
   ]
  },
  {
   "cell_type": "code",
   "execution_count": null,
   "id": "5f141390",
   "metadata": {},
   "outputs": [],
   "source": [
    "sdata = {'Ohio': 35000, 'Texas':71000, 'Oregon':16000, 'Utah':5000}\n",
    "states = ['California', 'Ohio', 'Oregon', 'Texas']"
   ]
  },
  {
   "cell_type": "code",
   "execution_count": null,
   "id": "eac8d629",
   "metadata": {},
   "outputs": [],
   "source": [
    "# 构造函数3：dict字典参数\n",
    "obj3 = pd.Series(sdata)\n",
    "obj3"
   ]
  },
  {
   "cell_type": "code",
   "execution_count": null,
   "id": "a46b7245",
   "metadata": {},
   "outputs": [],
   "source": [
    "obj4 = pd.Series(sdata, index=states)\n",
    "obj4"
   ]
  },
  {
   "cell_type": "code",
   "execution_count": null,
   "id": "6b522fbd",
   "metadata": {},
   "outputs": [],
   "source": [
    "pd.isnull(obj4)  # 等价obj4.isnull()"
   ]
  },
  {
   "cell_type": "code",
   "execution_count": null,
   "id": "45df878b",
   "metadata": {},
   "outputs": [],
   "source": [
    "obj4.name = 'population'\n",
    "obj4.index.name = 'state'\n",
    "obj4"
   ]
  },
  {
   "cell_type": "code",
   "execution_count": null,
   "id": "64e233cb",
   "metadata": {},
   "outputs": [],
   "source": [
    "# 通过index属性更改索引\n",
    "obj.index = ['Bob', 'Emily', 'Eason', 'Sukie']\n",
    "obj"
   ]
  },
  {
   "cell_type": "markdown",
   "id": "533882c3",
   "metadata": {},
   "source": [
    "## 2 DataFrame"
   ]
  },
  {
   "cell_type": "code",
   "execution_count": null,
   "id": "b3237f2a",
   "metadata": {},
   "outputs": [],
   "source": [
    "import pandas as pd\n",
    "import numpy as np"
   ]
  },
  {
   "cell_type": "code",
   "execution_count": null,
   "id": "b2e2e612",
   "metadata": {},
   "outputs": [],
   "source": [
    "data = {'state': ['Ohio', 'Ohio', 'Ohio', 'Nevada', 'Nevada', 'Nevada'],\n",
    "        'year': [2000, 2001, 2002, 2001, 2002, 2003],\n",
    "        'pop': [1.5, 1.7, 3.6, 2.4, 2.9, 3.2]}\n",
    "\n",
    "frame = pd.DataFrame(data)\n",
    "frame"
   ]
  },
  {
   "cell_type": "code",
   "execution_count": null,
   "id": "20e11abd",
   "metadata": {},
   "outputs": [],
   "source": [
    "frame.drop(0)"
   ]
  },
  {
   "cell_type": "code",
   "execution_count": null,
   "id": "b443a7dc",
   "metadata": {},
   "outputs": [],
   "source": [
    "frame[['state','pop']]"
   ]
  },
  {
   "cell_type": "code",
   "execution_count": null,
   "id": "357236f1",
   "metadata": {},
   "outputs": [],
   "source": [
    "frame.head()"
   ]
  },
  {
   "cell_type": "code",
   "execution_count": null,
   "id": "fb9b0d6e",
   "metadata": {},
   "outputs": [],
   "source": [
    "pd.DataFrame(data, columns=['year', 'state', 'pop', 'debt'])  # 指定列顺序"
   ]
  },
  {
   "cell_type": "code",
   "execution_count": null,
   "id": "dd4c09b7",
   "metadata": {},
   "outputs": [],
   "source": [
    "frame2 = pd.DataFrame(data, columns=['year', 'state', 'pop', 'debt'], index=['one','two','three','four','five','six'])\n",
    "frame2"
   ]
  },
  {
   "cell_type": "code",
   "execution_count": null,
   "id": "4a0a2f91",
   "metadata": {},
   "outputs": [],
   "source": [
    "frame2.columns  # 查看列字段名"
   ]
  },
  {
   "cell_type": "code",
   "execution_count": null,
   "id": "723ad1f5",
   "metadata": {},
   "outputs": [],
   "source": [
    "frame2['state']  # 查看某列记录----通过类似字典标记/属性，可以“将DataFrame的列获取为一个Series”\n",
    "# frame2.state  # IPython提供了类似属性的访问（即frame2.year）和tab补全"
   ]
  },
  {
   "cell_type": "code",
   "execution_count": null,
   "id": "f6e22e1c",
   "metadata": {},
   "outputs": [],
   "source": [
    "frame2.loc['three']  # 查看某行记录"
   ]
  },
  {
   "cell_type": "code",
   "execution_count": null,
   "id": "eb8d8e76",
   "metadata": {},
   "outputs": [],
   "source": [
    "frame2['debt']= 16.5\n",
    "frame2"
   ]
  },
  {
   "cell_type": "code",
   "execution_count": null,
   "id": "5c07fb69",
   "metadata": {},
   "outputs": [],
   "source": [
    "frame2['debt']= np.arange(6.)\n",
    "frame2"
   ]
  },
  {
   "cell_type": "code",
   "execution_count": null,
   "id": "acd60aae",
   "metadata": {},
   "outputs": [],
   "source": [
    "val = pd.Series([-1.2, -1.5, -1.7], index=['two', 'four', 'five'])  # 通过Series修改DataFrame的值\n",
    "frame2['debt'] = val\n",
    "frame2"
   ]
  },
  {
   "cell_type": "code",
   "execution_count": null,
   "id": "035adb9c",
   "metadata": {},
   "outputs": [],
   "source": [
    "frame2['eastern'] = frame2.state == 'Ohio'\n",
    "frame2"
   ]
  },
  {
   "cell_type": "code",
   "execution_count": null,
   "id": "3705e38e",
   "metadata": {},
   "outputs": [],
   "source": [
    "del frame2['eastern']  # del 删除列\n",
    "frame2.columns"
   ]
  },
  {
   "cell_type": "code",
   "execution_count": null,
   "id": "7c9b2c23",
   "metadata": {},
   "outputs": [],
   "source": [
    "# 嵌套字典：外部键——列索引、内部键——行索引\n",
    "pop = {'Nevada': {2001: 2.4, 2002: 2.9}, \n",
    "       'Ohio': {2000: 1.5, 2001: 1.7, 2002: 3.6}}\n",
    "frame3 = pd.DataFrame(pop)\n",
    "frame3"
   ]
  },
  {
   "cell_type": "code",
   "execution_count": null,
   "id": "c05579b3",
   "metadata": {},
   "outputs": [],
   "source": [
    "frame3.T"
   ]
  },
  {
   "cell_type": "code",
   "execution_count": null,
   "id": "a3076f8c",
   "metadata": {},
   "outputs": [],
   "source": [
    "# 给行/列索引命名\n",
    "frame3.index.name = 'year'; frame3.columns.name = 'status'\n",
    "frame3"
   ]
  },
  {
   "cell_type": "code",
   "execution_count": null,
   "id": "34c3b8db",
   "metadata": {},
   "outputs": [],
   "source": [
    "frame2"
   ]
  },
  {
   "cell_type": "code",
   "execution_count": null,
   "id": "161f6ce9",
   "metadata": {},
   "outputs": [],
   "source": [
    "frame2.values"
   ]
  },
  {
   "cell_type": "code",
   "execution_count": null,
   "id": "e13459b6",
   "metadata": {},
   "outputs": [],
   "source": [
    "frame4 = pd.DataFrame({'year':[2000, 2001],\n",
    "                       'state':['Ohio', 'Ohio'],\n",
    "                       'pop':[1.1, 1.2],\n",
    "                       'debt':[3.6,3.7]})\n",
    "# append：连接另一个df对象\n",
    "frame5 = frame2.append(frame4)\n",
    "frame5"
   ]
  },
  {
   "cell_type": "code",
   "execution_count": null,
   "id": "06dbabba",
   "metadata": {},
   "outputs": [],
   "source": [
    "frame.columns[1]"
   ]
  },
  {
   "cell_type": "code",
   "execution_count": null,
   "id": "b139dfc6",
   "metadata": {},
   "outputs": [],
   "source": [
    "data = pd.DataFrame(np.arange(16).reshape(4,4), index=['row1','row2','row3','row4'], columns=['column1','column2','column3','column4'])\n",
    "data"
   ]
  },
  {
   "cell_type": "code",
   "execution_count": null,
   "id": "cfde0332",
   "metadata": {},
   "outputs": [],
   "source": [
    "data < 5"
   ]
  },
  {
   "cell_type": "code",
   "execution_count": null,
   "id": "25d97499",
   "metadata": {},
   "outputs": [],
   "source": [
    "data[data < 5] = 0\n",
    "data"
   ]
  },
  {
   "cell_type": "markdown",
   "id": "7837380a",
   "metadata": {},
   "source": [
    "### 2.1 DataFrame_用loc和iloc进行选取"
   ]
  },
  {
   "cell_type": "code",
   "execution_count": null,
   "id": "eb6939fa",
   "metadata": {},
   "outputs": [],
   "source": [
    "data = pd.DataFrame(np.arange(16).reshape(4,4), index=['row1','row2','row3','row4'], columns=['column1','column2','column3','column4'])\n",
    "data"
   ]
  },
  {
   "cell_type": "code",
   "execution_count": null,
   "id": "d25990e4",
   "metadata": {},
   "outputs": [],
   "source": [
    "data.loc['row2', ['column2', 'column3']]  # 选择第二行的二三列"
   ]
  },
  {
   "cell_type": "code",
   "execution_count": null,
   "id": "09cd7f8b",
   "metadata": {},
   "outputs": [],
   "source": [
    "data.iloc[1, [3, 2, 1]]  # 选择第二行的二三列"
   ]
  },
  {
   "cell_type": "code",
   "execution_count": null,
   "id": "708b0de1",
   "metadata": {},
   "outputs": [],
   "source": [
    "data.iloc[0]  # ⽤iloc和整数进⾏选取"
   ]
  },
  {
   "cell_type": "code",
   "execution_count": null,
   "id": "03d6c960",
   "metadata": {},
   "outputs": [],
   "source": [
    "data.iloc[[1, 2], [3, 2, 1]]"
   ]
  },
  {
   "cell_type": "code",
   "execution_count": null,
   "id": "4fd8e054",
   "metadata": {},
   "outputs": [],
   "source": [
    "data.iloc[:, :3][data.column3 > 5]"
   ]
  },
  {
   "cell_type": "markdown",
   "id": "3a9ce84e",
   "metadata": {},
   "source": [
    "### 2.2 DataFrame_算术运算和数据对齐"
   ]
  },
  {
   "cell_type": "code",
   "execution_count": null,
   "id": "57a30367",
   "metadata": {},
   "outputs": [],
   "source": [
    "s1 = pd.Series([7.3, -2.5, 3.4, 1.5], index=['a', 'c', 'd', 'e'])\n",
    "s2 = pd.Series([-2.1, 3.6, -1.5, 4, 3.1], index=['a', 'c', 'e', 'f', 'g'])\n",
    "print(s1)\n",
    "print(s2)"
   ]
  },
  {
   "cell_type": "code",
   "execution_count": null,
   "id": "9be99689",
   "metadata": {},
   "outputs": [],
   "source": [
    "s1+s2"
   ]
  },
  {
   "cell_type": "code",
   "execution_count": null,
   "id": "6c702993",
   "metadata": {},
   "outputs": [],
   "source": [
    "s1.add(s2, fill_value=0)  # 相加找不到对象时用0填充"
   ]
  },
  {
   "cell_type": "markdown",
   "id": "ce26f96e",
   "metadata": {},
   "source": [
    "## 3 函数应用和映射 "
   ]
  },
  {
   "cell_type": "code",
   "execution_count": 1,
   "id": "0607d4e9",
   "metadata": {},
   "outputs": [],
   "source": [
    "import pandas as pd\n",
    "import numpy as np"
   ]
  },
  {
   "cell_type": "code",
   "execution_count": 2,
   "id": "0ff21c32",
   "metadata": {},
   "outputs": [
    {
     "data": {
      "text/html": [
       "<div>\n",
       "<style scoped>\n",
       "    .dataframe tbody tr th:only-of-type {\n",
       "        vertical-align: middle;\n",
       "    }\n",
       "\n",
       "    .dataframe tbody tr th {\n",
       "        vertical-align: top;\n",
       "    }\n",
       "\n",
       "    .dataframe thead th {\n",
       "        text-align: right;\n",
       "    }\n",
       "</style>\n",
       "<table border=\"1\" class=\"dataframe\">\n",
       "  <thead>\n",
       "    <tr style=\"text-align: right;\">\n",
       "      <th></th>\n",
       "      <th>0</th>\n",
       "      <th>1</th>\n",
       "      <th>2</th>\n",
       "    </tr>\n",
       "  </thead>\n",
       "  <tbody>\n",
       "    <tr>\n",
       "      <th>0</th>\n",
       "      <td>-1.047264</td>\n",
       "      <td>-0.081616</td>\n",
       "      <td>-0.081339</td>\n",
       "    </tr>\n",
       "    <tr>\n",
       "      <th>1</th>\n",
       "      <td>0.096431</td>\n",
       "      <td>0.629856</td>\n",
       "      <td>-0.500410</td>\n",
       "    </tr>\n",
       "    <tr>\n",
       "      <th>2</th>\n",
       "      <td>-2.573754</td>\n",
       "      <td>-1.395530</td>\n",
       "      <td>0.204096</td>\n",
       "    </tr>\n",
       "    <tr>\n",
       "      <th>3</th>\n",
       "      <td>1.115953</td>\n",
       "      <td>0.295477</td>\n",
       "      <td>-0.967174</td>\n",
       "    </tr>\n",
       "  </tbody>\n",
       "</table>\n",
       "</div>"
      ],
      "text/plain": [
       "          0         1         2\n",
       "0 -1.047264 -0.081616 -0.081339\n",
       "1  0.096431  0.629856 -0.500410\n",
       "2 -2.573754 -1.395530  0.204096\n",
       "3  1.115953  0.295477 -0.967174"
      ]
     },
     "execution_count": 2,
     "metadata": {},
     "output_type": "execute_result"
    }
   ],
   "source": [
    "frame = pd.DataFrame(np.random.randn(4,3))\n",
    "frame"
   ]
  },
  {
   "cell_type": "code",
   "execution_count": null,
   "id": "b2ed0279",
   "metadata": {},
   "outputs": [],
   "source": [
    "f = lambda x: x.max()-x.min()"
   ]
  },
  {
   "cell_type": "code",
   "execution_count": null,
   "id": "e7b1c330",
   "metadata": {},
   "outputs": [],
   "source": [
    "frame.apply(f)  # 默认axis=0\n",
    "#frame.apply(f, axis=1)"
   ]
  },
  {
   "cell_type": "code",
   "execution_count": null,
   "id": "21e26ce4",
   "metadata": {},
   "outputs": [],
   "source": [
    "def f(x):\n",
    "    return pd.Series([x.min(), x.max()], index=['min', 'max'])"
   ]
  },
  {
   "cell_type": "code",
   "execution_count": null,
   "id": "db1a65dc",
   "metadata": {},
   "outputs": [],
   "source": [
    "frame.apply(f)  # 调用自定义函数f(x)"
   ]
  },
  {
   "cell_type": "code",
   "execution_count": null,
   "id": "cfc2fa0e",
   "metadata": {},
   "outputs": [],
   "source": [
    "format = lambda x: '%.2f' %x\n",
    "frame.applymap(format)  # applymap格式化字符串"
   ]
  },
  {
   "cell_type": "code",
   "execution_count": null,
   "id": "282af160",
   "metadata": {},
   "outputs": [],
   "source": [
    "frame[0].map(format)  # map是Series的格式化字符串方法"
   ]
  },
  {
   "cell_type": "code",
   "execution_count": null,
   "id": "e91cb7c7",
   "metadata": {},
   "outputs": [],
   "source": [
    "frame[0] = frame[0]*10000"
   ]
  },
  {
   "cell_type": "code",
   "execution_count": null,
   "id": "c939cf6c",
   "metadata": {},
   "outputs": [],
   "source": [
    "data = pd.DataFrame(np.arange(8).reshape(2,4))\n",
    "data"
   ]
  },
  {
   "cell_type": "code",
   "execution_count": null,
   "id": "e19983c9",
   "metadata": {},
   "outputs": [],
   "source": [
    "data.sort_index(axis=1, ascending=False)  # 降序"
   ]
  },
  {
   "cell_type": "code",
   "execution_count": null,
   "id": "7f1058f0",
   "metadata": {},
   "outputs": [],
   "source": [
    "data"
   ]
  },
  {
   "cell_type": "code",
   "execution_count": null,
   "id": "b9774a99",
   "metadata": {},
   "outputs": [],
   "source": [
    "data.sort_values([0,1],ascending=False)"
   ]
  },
  {
   "cell_type": "code",
   "execution_count": null,
   "id": "bce031e4",
   "metadata": {},
   "outputs": [],
   "source": [
    "data2 = pd.DataFrame({'b': [4, 7, -3, 2], 'a': [0, 1, 0, 1]})\n",
    "data2"
   ]
  },
  {
   "cell_type": "code",
   "execution_count": null,
   "id": "e1ff6b90",
   "metadata": {},
   "outputs": [],
   "source": [
    "data2.sort_values(by='b')"
   ]
  },
  {
   "cell_type": "code",
   "execution_count": null,
   "id": "ea5e7b21",
   "metadata": {},
   "outputs": [],
   "source": [
    "obj = pd.Series([7, -5, 7, 4, 2, 0, 4])\n",
    "obj.rank()"
   ]
  },
  {
   "cell_type": "code",
   "execution_count": null,
   "id": "8bb1b1a7",
   "metadata": {},
   "outputs": [],
   "source": [
    "obj.rank(method='first')"
   ]
  },
  {
   "cell_type": "code",
   "execution_count": null,
   "id": "8a7ce1dc",
   "metadata": {},
   "outputs": [],
   "source": [
    "obj.rank(method='max')"
   ]
  },
  {
   "cell_type": "code",
   "execution_count": 3,
   "id": "de595b16",
   "metadata": {},
   "outputs": [
    {
     "data": {
      "text/html": [
       "<div>\n",
       "<style scoped>\n",
       "    .dataframe tbody tr th:only-of-type {\n",
       "        vertical-align: middle;\n",
       "    }\n",
       "\n",
       "    .dataframe tbody tr th {\n",
       "        vertical-align: top;\n",
       "    }\n",
       "\n",
       "    .dataframe thead th {\n",
       "        text-align: right;\n",
       "    }\n",
       "</style>\n",
       "<table border=\"1\" class=\"dataframe\">\n",
       "  <thead>\n",
       "    <tr style=\"text-align: right;\">\n",
       "      <th></th>\n",
       "      <th>0</th>\n",
       "      <th>1</th>\n",
       "      <th>2</th>\n",
       "    </tr>\n",
       "  </thead>\n",
       "  <tbody>\n",
       "    <tr>\n",
       "      <th>0</th>\n",
       "      <td>1.0</td>\n",
       "      <td>2.0</td>\n",
       "      <td>3.0</td>\n",
       "    </tr>\n",
       "    <tr>\n",
       "      <th>1</th>\n",
       "      <td>2.0</td>\n",
       "      <td>3.0</td>\n",
       "      <td>1.0</td>\n",
       "    </tr>\n",
       "    <tr>\n",
       "      <th>2</th>\n",
       "      <td>1.0</td>\n",
       "      <td>2.0</td>\n",
       "      <td>3.0</td>\n",
       "    </tr>\n",
       "    <tr>\n",
       "      <th>3</th>\n",
       "      <td>3.0</td>\n",
       "      <td>2.0</td>\n",
       "      <td>1.0</td>\n",
       "    </tr>\n",
       "  </tbody>\n",
       "</table>\n",
       "</div>"
      ],
      "text/plain": [
       "     0    1    2\n",
       "0  1.0  2.0  3.0\n",
       "1  2.0  3.0  1.0\n",
       "2  1.0  2.0  3.0\n",
       "3  3.0  2.0  1.0"
      ]
     },
     "execution_count": 3,
     "metadata": {},
     "output_type": "execute_result"
    }
   ],
   "source": [
    "frame.rank(axis=1)"
   ]
  },
  {
   "cell_type": "code",
   "execution_count": 4,
   "id": "df9da192",
   "metadata": {},
   "outputs": [
    {
     "data": {
      "text/html": [
       "<div>\n",
       "<style scoped>\n",
       "    .dataframe tbody tr th:only-of-type {\n",
       "        vertical-align: middle;\n",
       "    }\n",
       "\n",
       "    .dataframe tbody tr th {\n",
       "        vertical-align: top;\n",
       "    }\n",
       "\n",
       "    .dataframe thead th {\n",
       "        text-align: right;\n",
       "    }\n",
       "</style>\n",
       "<table border=\"1\" class=\"dataframe\">\n",
       "  <thead>\n",
       "    <tr style=\"text-align: right;\">\n",
       "      <th></th>\n",
       "      <th>0</th>\n",
       "      <th>1</th>\n",
       "      <th>2</th>\n",
       "    </tr>\n",
       "  </thead>\n",
       "  <tbody>\n",
       "    <tr>\n",
       "      <th>0</th>\n",
       "      <td>2.0</td>\n",
       "      <td>2.0</td>\n",
       "      <td>3.0</td>\n",
       "    </tr>\n",
       "    <tr>\n",
       "      <th>1</th>\n",
       "      <td>3.0</td>\n",
       "      <td>4.0</td>\n",
       "      <td>2.0</td>\n",
       "    </tr>\n",
       "    <tr>\n",
       "      <th>2</th>\n",
       "      <td>1.0</td>\n",
       "      <td>1.0</td>\n",
       "      <td>4.0</td>\n",
       "    </tr>\n",
       "    <tr>\n",
       "      <th>3</th>\n",
       "      <td>4.0</td>\n",
       "      <td>3.0</td>\n",
       "      <td>1.0</td>\n",
       "    </tr>\n",
       "  </tbody>\n",
       "</table>\n",
       "</div>"
      ],
      "text/plain": [
       "     0    1    2\n",
       "0  2.0  2.0  3.0\n",
       "1  3.0  4.0  2.0\n",
       "2  1.0  1.0  4.0\n",
       "3  4.0  3.0  1.0"
      ]
     },
     "execution_count": 4,
     "metadata": {},
     "output_type": "execute_result"
    }
   ],
   "source": [
    "frame.rank(axis=0)"
   ]
  },
  {
   "cell_type": "markdown",
   "id": "0ebef804",
   "metadata": {},
   "source": [
    "## 4 汇总和计算描述统计"
   ]
  },
  {
   "cell_type": "code",
   "execution_count": 5,
   "id": "51d53f17",
   "metadata": {},
   "outputs": [
    {
     "data": {
      "text/html": [
       "<div>\n",
       "<style scoped>\n",
       "    .dataframe tbody tr th:only-of-type {\n",
       "        vertical-align: middle;\n",
       "    }\n",
       "\n",
       "    .dataframe tbody tr th {\n",
       "        vertical-align: top;\n",
       "    }\n",
       "\n",
       "    .dataframe thead th {\n",
       "        text-align: right;\n",
       "    }\n",
       "</style>\n",
       "<table border=\"1\" class=\"dataframe\">\n",
       "  <thead>\n",
       "    <tr style=\"text-align: right;\">\n",
       "      <th></th>\n",
       "      <th>one</th>\n",
       "      <th>two</th>\n",
       "    </tr>\n",
       "  </thead>\n",
       "  <tbody>\n",
       "    <tr>\n",
       "      <th>a</th>\n",
       "      <td>1.40</td>\n",
       "      <td>NaN</td>\n",
       "    </tr>\n",
       "    <tr>\n",
       "      <th>b</th>\n",
       "      <td>7.10</td>\n",
       "      <td>-4.5</td>\n",
       "    </tr>\n",
       "    <tr>\n",
       "      <th>c</th>\n",
       "      <td>NaN</td>\n",
       "      <td>NaN</td>\n",
       "    </tr>\n",
       "    <tr>\n",
       "      <th>d</th>\n",
       "      <td>0.75</td>\n",
       "      <td>-1.3</td>\n",
       "    </tr>\n",
       "  </tbody>\n",
       "</table>\n",
       "</div>"
      ],
      "text/plain": [
       "    one  two\n",
       "a  1.40  NaN\n",
       "b  7.10 -4.5\n",
       "c   NaN  NaN\n",
       "d  0.75 -1.3"
      ]
     },
     "execution_count": 5,
     "metadata": {},
     "output_type": "execute_result"
    }
   ],
   "source": [
    "df = pd.DataFrame([[1.4, np.nan], [7.1, -4.5],\n",
    "                   [np.nan, np.nan], [0.75, -1.3]],\n",
    "                  index=['a', 'b', 'c', 'd'],\n",
    "                  columns=['one', 'two'])\n",
    "df"
   ]
  },
  {
   "cell_type": "code",
   "execution_count": 6,
   "id": "e5d7b1ec",
   "metadata": {},
   "outputs": [
    {
     "data": {
      "text/plain": [
       "one    9.25\n",
       "two   -5.80\n",
       "dtype: float64"
      ]
     },
     "execution_count": 6,
     "metadata": {},
     "output_type": "execute_result"
    }
   ],
   "source": [
    "df.sum()"
   ]
  },
  {
   "cell_type": "code",
   "execution_count": 7,
   "id": "6afaa068",
   "metadata": {},
   "outputs": [
    {
     "data": {
      "text/plain": [
       "a    1.40\n",
       "b    2.60\n",
       "c    0.00\n",
       "d   -0.55\n",
       "dtype: float64"
      ]
     },
     "execution_count": 7,
     "metadata": {},
     "output_type": "execute_result"
    }
   ],
   "source": [
    "df.sum(axis=1)"
   ]
  },
  {
   "cell_type": "code",
   "execution_count": 8,
   "id": "9af361ce",
   "metadata": {},
   "outputs": [
    {
     "data": {
      "text/plain": [
       "a      NaN\n",
       "b    1.300\n",
       "c      NaN\n",
       "d   -0.275\n",
       "dtype: float64"
      ]
     },
     "execution_count": 8,
     "metadata": {},
     "output_type": "execute_result"
    }
   ],
   "source": [
    "df.mean(axis=1, skipna=False)  # 取消对NaN的屏蔽 "
   ]
  },
  {
   "cell_type": "code",
   "execution_count": null,
   "id": "db1637a0",
   "metadata": {},
   "outputs": [],
   "source": []
  }
 ],
 "metadata": {
  "kernelspec": {
   "display_name": "Python 3 (ipykernel)",
   "language": "python",
   "name": "python3"
  },
  "language_info": {
   "codemirror_mode": {
    "name": "ipython",
    "version": 3
   },
   "file_extension": ".py",
   "mimetype": "text/x-python",
   "name": "python",
   "nbconvert_exporter": "python",
   "pygments_lexer": "ipython3",
   "version": "3.9.13"
  }
 },
 "nbformat": 4,
 "nbformat_minor": 5
}

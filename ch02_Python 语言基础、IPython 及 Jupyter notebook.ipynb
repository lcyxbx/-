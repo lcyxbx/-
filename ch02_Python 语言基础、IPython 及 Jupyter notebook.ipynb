{
 "cells": [
  {
   "cell_type": "markdown",
   "id": "733b14e7",
   "metadata": {},
   "source": [
    "# Introductory examples"
   ]
  },
  {
   "cell_type": "markdown",
   "id": "73c5cec2",
   "metadata": {},
   "source": [
    "### 1 打开已经存在的笔记本"
   ]
  },
  {
   "cell_type": "code",
   "execution_count": null,
   "id": "954f2342",
   "metadata": {},
   "outputs": [],
   "source": [
    "%pwd"
   ]
  },
  {
   "cell_type": "code",
   "execution_count": null,
   "id": "d8335a77",
   "metadata": {},
   "outputs": [],
   "source": [
    "path = 'ch02/文本01.txt'\n",
    "f = open(path, \"r\", encoding='UTF-8')\n",
    "print(f.read())\n",
    "# f.read(10)"
   ]
  },
  {
   "cell_type": "code",
   "execution_count": null,
   "id": "6c5ca65a",
   "metadata": {},
   "outputs": [],
   "source": [
    "path = 'ch02/文本01.txt'\n",
    "with open(path, encoding='UTF') as f:\n",
    "    print(f.read())\n",
    "f.close()"
   ]
  },
  {
   "cell_type": "code",
   "execution_count": 2,
   "id": "0b49859e",
   "metadata": {},
   "outputs": [
    {
     "data": {
      "text/plain": [
       "[{'name': 'Michael', 'sex': '男', 'age': '24'},\n",
       " {'name': 'Wren', 'sex': '女', 'age': '22'}]"
      ]
     },
     "execution_count": 2,
     "metadata": {},
     "output_type": "execute_result"
    }
   ],
   "source": [
    "import json\n",
    "path = 'ch02/文本01.txt'\n",
    "records = [json.loads(line) for line in open(path, encoding='UTF-8')]\n",
    "records"
   ]
  },
  {
   "cell_type": "code",
   "execution_count": 3,
   "id": "9cb21aaf",
   "metadata": {},
   "outputs": [
    {
     "data": {
      "text/plain": [
       "{'name': 'Michael', 'sex': '男', 'age': '24'}"
      ]
     },
     "execution_count": 3,
     "metadata": {},
     "output_type": "execute_result"
    }
   ],
   "source": [
    "records[0]"
   ]
  },
  {
   "cell_type": "code",
   "execution_count": 4,
   "id": "bbe7ce5f",
   "metadata": {},
   "outputs": [
    {
     "data": {
      "text/plain": [
       "'Michael'"
      ]
     },
     "execution_count": 4,
     "metadata": {},
     "output_type": "execute_result"
    }
   ],
   "source": [
    "records[0]['name']"
   ]
  },
  {
   "cell_type": "code",
   "execution_count": 5,
   "id": "f36ba216",
   "metadata": {},
   "outputs": [
    {
     "data": {
      "text/plain": [
       "['{\"name\": \"Michael\",\"sex\":\"男\",\"age\":\"24\"}',\n",
       " '{\"name\": \"Wren\",\"sex\":\"女\",\"age\":\"22\"}']"
      ]
     },
     "execution_count": 5,
     "metadata": {},
     "output_type": "execute_result"
    }
   ],
   "source": [
    "lines = [x.rstrip() for x in open(path, encoding='UTF-8')]\n",
    "lines"
   ]
  },
  {
   "cell_type": "code",
   "execution_count": 6,
   "id": "b875e6cd",
   "metadata": {},
   "outputs": [],
   "source": [
    "# w：创建新文件\n",
    "path = 'ch02/文本02.txt'\n",
    "with open(path, 'w') as handle:\n",
    "    handle.writelines(x for x in open(path))"
   ]
  },
  {
   "cell_type": "code",
   "execution_count": null,
   "id": "846de849",
   "metadata": {},
   "outputs": [],
   "source": [
    "import sys\n",
    "# 获取默认编码\n",
    "sys.getdefaultencoding()"
   ]
  },
  {
   "cell_type": "markdown",
   "id": "4e447058",
   "metadata": {},
   "source": [
    "### 2 内省显示该对象（变量、函数、方法..）的概要信息"
   ]
  },
  {
   "cell_type": "code",
   "execution_count": null,
   "id": "6e480e17",
   "metadata": {},
   "outputs": [],
   "source": [
    "a = [1,2,3]"
   ]
  },
  {
   "cell_type": "code",
   "execution_count": null,
   "id": "547d7873",
   "metadata": {},
   "outputs": [],
   "source": [
    "a.append(4)"
   ]
  },
  {
   "cell_type": "code",
   "execution_count": null,
   "id": "77d724d0",
   "metadata": {},
   "outputs": [],
   "source": [
    "a?"
   ]
  },
  {
   "cell_type": "code",
   "execution_count": null,
   "id": "99bc796e",
   "metadata": {},
   "outputs": [],
   "source": [
    "def add_numbers(a,b):\n",
    "    \"\"\"\n",
    "    Add two numbers together\n",
    "    Returns\n",
    "    ------\n",
    "    the_sum : type of arguments\n",
    "    \"\"\"\n",
    "    return a + b"
   ]
  },
  {
   "cell_type": "code",
   "execution_count": null,
   "id": "14a3127d",
   "metadata": {},
   "outputs": [],
   "source": [
    "# ?? : 显示函数源代码\n",
    "add_numbers??"
   ]
  },
  {
   "cell_type": "code",
   "execution_count": null,
   "id": "f47323af",
   "metadata": {},
   "outputs": [],
   "source": [
    "# *？: 显示所有匹配通配符表达式的命名\n",
    "import numpy as np\n",
    "np.*load*?"
   ]
  },
  {
   "cell_type": "markdown",
   "id": "13057309",
   "metadata": {},
   "source": [
    "### 3 %xxx: 魔术命令"
   ]
  },
  {
   "cell_type": "code",
   "execution_count": null,
   "id": "b6893a80",
   "metadata": {},
   "outputs": [],
   "source": [
    "# %run: 运行py脚本\n",
    "%run ch02/脚本01.py"
   ]
  },
  {
   "cell_type": "code",
   "execution_count": null,
   "id": "57df72ef",
   "metadata": {},
   "outputs": [],
   "source": [
    "result"
   ]
  },
  {
   "cell_type": "code",
   "execution_count": null,
   "id": "4cf11d14",
   "metadata": {},
   "outputs": [],
   "source": [
    "# %load ch02/脚本01.py --> %load：将脚本导入代码单元，执行后自动注释\n",
    "def f(x, y):\n",
    "    return x * y\n",
    "\n",
    "a = 3\n",
    "b = 5\n",
    "result = f(a, b)"
   ]
  },
  {
   "cell_type": "code",
   "execution_count": null,
   "id": "9c8610ec",
   "metadata": {},
   "outputs": [],
   "source": [
    "# %timeit: 查看程序执行时间\n",
    "import numpy as np\n",
    "a = np.random.randn(100, 100)\n",
    "%timeit np.dot(a, a)"
   ]
  },
  {
   "cell_type": "code",
   "execution_count": null,
   "id": "3193940c",
   "metadata": {},
   "outputs": [],
   "source": [
    "%quickref #显示IPython快速参考卡"
   ]
  },
  {
   "cell_type": "code",
   "execution_count": null,
   "id": "2ef5fc82",
   "metadata": {},
   "outputs": [],
   "source": [
    "%magic #显示所有可用魔术命令的详细文档"
   ]
  },
  {
   "cell_type": "markdown",
   "id": "256499b7",
   "metadata": {},
   "source": [
    "### 4 matplotlib集成"
   ]
  },
  {
   "cell_type": "code",
   "execution_count": null,
   "id": "b28d8097",
   "metadata": {},
   "outputs": [],
   "source": [
    "%matplotlib"
   ]
  },
  {
   "cell_type": "code",
   "execution_count": null,
   "id": "e9eee5ef",
   "metadata": {},
   "outputs": [],
   "source": [
    "%matplotlib inline"
   ]
  },
  {
   "cell_type": "code",
   "execution_count": null,
   "id": "dea1f116",
   "metadata": {},
   "outputs": [],
   "source": [
    "import matplotlib.pyplot as plt\n",
    "import numpy as np\n",
    "plt.plot(np.random.randn(50).cumsum())"
   ]
  },
  {
   "cell_type": "markdown",
   "id": "5db62bea",
   "metadata": {},
   "source": [
    "### 5 标量类型（None/str/bytes/float/bool/int）\n",
    "    Python的标准库中拥有与一个内建类型集合，用来处理数值数据、str、bool、日期和时间（有内置模块datetime）"
   ]
  },
  {
   "cell_type": "markdown",
   "id": "259bea5c",
   "metadata": {},
   "source": [
    "##### 5.1 字节与Unicode编码  <统一码（采用双字节对字符进行编码）>\n",
    "    字节类型：bytes； Unicode编码类型：str"
   ]
  },
  {
   "cell_type": "code",
   "execution_count": null,
   "id": "14567188",
   "metadata": {},
   "outputs": [],
   "source": [
    "# 创建一个对象\n",
    "val_utf8 = b'espa\\xc3\\xb10l'"
   ]
  },
  {
   "cell_type": "code",
   "execution_count": null,
   "id": "efa901a8",
   "metadata": {},
   "outputs": [],
   "source": [
    "# decode解码：unicode --> utf-8\n",
    "val_unicode = val_utf8.decode('utf-8')\n",
    "val_unicode"
   ]
  },
  {
   "cell_type": "code",
   "execution_count": null,
   "id": "ba3bb559",
   "metadata": {},
   "outputs": [],
   "source": [
    "type(val_unicode)"
   ]
  },
  {
   "cell_type": "code",
   "execution_count": null,
   "id": "a3f9ca9f",
   "metadata": {},
   "outputs": [],
   "source": [
    "# encode解码：utf-8 --> unicode\n",
    "val_utf8 = val_unicode.encode('utf-8')\n",
    "type(val_utf8)"
   ]
  },
  {
   "cell_type": "markdown",
   "id": "434c8beb",
   "metadata": {},
   "source": [
    "##### 5.2 日期和时间"
   ]
  },
  {
   "cell_type": "code",
   "execution_count": null,
   "id": "996e137b",
   "metadata": {},
   "outputs": [],
   "source": [
    "from datetime import datetime, date, time\n",
    "dt = datetime(2011, 10, 29, 20, 30, 21)"
   ]
  },
  {
   "cell_type": "code",
   "execution_count": null,
   "id": "1f6bc311",
   "metadata": {},
   "outputs": [],
   "source": [
    "dt.day, dt.hour"
   ]
  },
  {
   "cell_type": "code",
   "execution_count": null,
   "id": "a471328a",
   "metadata": {},
   "outputs": [],
   "source": [
    "dt.date(), dt.time()"
   ]
  },
  {
   "cell_type": "code",
   "execution_count": null,
   "id": "9684875d",
   "metadata": {},
   "outputs": [],
   "source": [
    "print(dt.date(), dt.time())"
   ]
  },
  {
   "cell_type": "code",
   "execution_count": null,
   "id": "dbd0d819",
   "metadata": {},
   "outputs": [],
   "source": [
    "print(dt.strftime(\"%m/%d/%Y %H:%M\"))  # datetime --> str\n",
    "print(dt.strftime(\"%D %H:%M\"))  # %D: %m/%d/%Y的简写\n",
    "print(dt.strftime(\"%F %H:%M\"))  # %F: %Y-%m-%d的简写\n",
    "print(datetime.strptime(\"20221220\", \"%Y%m%d\"))  # str --> datetime"
   ]
  },
  {
   "cell_type": "markdown",
   "id": "f7d6824d",
   "metadata": {},
   "source": [
    "##### 5.3 range 返回一个生成等差整数序列的迭代器"
   ]
  },
  {
   "cell_type": "code",
   "execution_count": null,
   "id": "4be942ac",
   "metadata": {},
   "outputs": [],
   "source": [
    "range(0,10)"
   ]
  },
  {
   "cell_type": "code",
   "execution_count": 10,
   "id": "64268d1f",
   "metadata": {},
   "outputs": [
    {
     "data": {
      "text/plain": [
       "[0, 1, 2, 3, 4, 5, 6, 7, 8, 9]"
      ]
     },
     "execution_count": 10,
     "metadata": {},
     "output_type": "execute_result"
    }
   ],
   "source": [
    "list(range(10))"
   ]
  },
  {
   "cell_type": "code",
   "execution_count": null,
   "id": "e7d55348",
   "metadata": {},
   "outputs": [],
   "source": [
    "list(range(0,20,4))"
   ]
  },
  {
   "cell_type": "code",
   "execution_count": null,
   "id": "bfba954e",
   "metadata": {},
   "outputs": [],
   "source": [
    "list(range(20,1,-2))"
   ]
  },
  {
   "cell_type": "code",
   "execution_count": null,
   "id": "205c3a32",
   "metadata": {},
   "outputs": [],
   "source": [
    "tuple(range(10))"
   ]
  },
  {
   "cell_type": "code",
   "execution_count": null,
   "id": "0cc7646e",
   "metadata": {},
   "outputs": [],
   "source": [
    " "
   ]
  }
 ],
 "metadata": {
  "kernelspec": {
   "display_name": "Python 3 (ipykernel)",
   "language": "python",
   "name": "python3"
  },
  "language_info": {
   "codemirror_mode": {
    "name": "ipython",
    "version": 3
   },
   "file_extension": ".py",
   "mimetype": "text/x-python",
   "name": "python",
   "nbconvert_exporter": "python",
   "pygments_lexer": "ipython3",
   "version": "3.9.13"
  }
 },
 "nbformat": 4,
 "nbformat_minor": 5
}

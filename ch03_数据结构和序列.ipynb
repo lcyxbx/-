{
 "cells": [
  {
   "cell_type": "markdown",
   "id": "9d44754e",
   "metadata": {},
   "source": [
    "#### 常用数据结构：元组()、列表[]、字典{key:value}、集合{value}"
   ]
  },
  {
   "cell_type": "code",
   "execution_count": null,
   "id": "f4b079bc",
   "metadata": {},
   "outputs": [],
   "source": [
    "values = 1,2,3,4,5\n",
    "a,b,*rest = values\n",
    "a,b,rest"
   ]
  },
  {
   "cell_type": "code",
   "execution_count": null,
   "id": "7c366f54",
   "metadata": {},
   "outputs": [],
   "source": [
    "list1 = ['foo','bar','baz']\n",
    "mapping = {}\n",
    "for i,v in enumerate(list1):\n",
    "    mapping[v] = i  # mapping['ab'] = 1；给键赋值（此处值为索引）\n",
    "    \n",
    "mapping"
   ]
  },
  {
   "cell_type": "code",
   "execution_count": null,
   "id": "98940ff9",
   "metadata": {},
   "outputs": [],
   "source": [
    "enumerate(list1)"
   ]
  },
  {
   "cell_type": "code",
   "execution_count": null,
   "id": "c1fb0230",
   "metadata": {},
   "outputs": [],
   "source": [
    "list(enumerate(list1))"
   ]
  },
  {
   "cell_type": "code",
   "execution_count": null,
   "id": "7ea035ee",
   "metadata": {},
   "outputs": [],
   "source": [
    "seq1 = ['apple', 'banana']\n",
    "seq2 = ['one', 'two']\n",
    "zipped = zip(seq1, seq2)\n",
    "type(zipped)  # zip\n",
    "list(zipped)"
   ]
  },
  {
   "cell_type": "code",
   "execution_count": null,
   "id": "1e621f4d",
   "metadata": {},
   "outputs": [],
   "source": [
    "for i, (a, b) in enumerate(zip(seq1, seq2)):\n",
    "    print('{0}: {1}, {2}'.format(i, a, b))"
   ]
  },
  {
   "cell_type": "code",
   "execution_count": null,
   "id": "66721544",
   "metadata": {},
   "outputs": [],
   "source": [
    "pitchers = [('Nolan', 'Ryan'), ('Roger', 'Clemens'),('Schilling', 'Curt')]\n",
    "first_names, last_names = zip(*pitchers)"
   ]
  },
  {
   "cell_type": "code",
   "execution_count": null,
   "id": "571f6331",
   "metadata": {},
   "outputs": [],
   "source": [
    "first_names"
   ]
  },
  {
   "cell_type": "code",
   "execution_count": null,
   "id": "8a5ee112",
   "metadata": {},
   "outputs": [],
   "source": [
    "last_names"
   ]
  },
  {
   "cell_type": "code",
   "execution_count": null,
   "id": "e3bcee35",
   "metadata": {},
   "outputs": [],
   "source": [
    "# 将两个序列在字典中按元素配对\n",
    "# way1\n",
    "seq1 = ['apple', 'banana']\n",
    "seq2 = ['one', 'two']\n",
    "mapping = {}\n",
    "for key,value in zip(seq1, seq2):\n",
    "    mapping[key] = value\n",
    "    \n",
    "mapping"
   ]
  },
  {
   "cell_type": "code",
   "execution_count": null,
   "id": "0c06f617",
   "metadata": {},
   "outputs": [],
   "source": [
    "# way2\n",
    "# mapping = dict(zip(range(5), reversed(range(5))))\n",
    "mapping = dict(zip(seq1, seq2))\n",
    "mapping"
   ]
  },
  {
   "cell_type": "code",
   "execution_count": null,
   "id": "d6cf7c8d",
   "metadata": {},
   "outputs": [],
   "source": [
    "words = ['apple', 'bat', 'bar', 'atom', 'book']\n",
    "words[0][0]"
   ]
  },
  {
   "cell_type": "code",
   "execution_count": 1,
   "id": "509c7e37",
   "metadata": {},
   "outputs": [
    {
     "data": {
      "text/plain": [
       "{'apple': 'one', 'banana': 'two'}"
      ]
     },
     "execution_count": 1,
     "metadata": {},
     "output_type": "execute_result"
    }
   ],
   "source": [
    "mapping = {'apple': 'one', 'banana': 'two'}\n",
    "mapping"
   ]
  },
  {
   "cell_type": "code",
   "execution_count": 2,
   "id": "b610368c",
   "metadata": {},
   "outputs": [
    {
     "data": {
      "text/plain": [
       "'one'"
      ]
     },
     "execution_count": 2,
     "metadata": {},
     "output_type": "execute_result"
    }
   ],
   "source": [
    "a = mapping.get('apple')\n",
    "a"
   ]
  },
  {
   "cell_type": "code",
   "execution_count": null,
   "id": "179bbeb7",
   "metadata": {},
   "outputs": [],
   "source": [
    "mapping1 = {}\n",
    "mapping1['key1'] = ['value1']\n",
    "mapping1['key2'] = 'value2'\n",
    "mapping1['key3'] = (1,2)\n",
    "mapping1"
   ]
  },
  {
   "cell_type": "code",
   "execution_count": 3,
   "id": "f9ca09ff",
   "metadata": {},
   "outputs": [],
   "source": [
    "# 字典的 setdefault、（collection的类）defaultdict练习\n",
    "words = ['apple', 'bat', 'bar', 'atom', 'book']\n",
    "by_letter = {}"
   ]
  },
  {
   "cell_type": "code",
   "execution_count": 4,
   "id": "3a6217fb",
   "metadata": {},
   "outputs": [
    {
     "data": {
      "text/plain": [
       "{'a': ['apple', 'atom'], 'b': ['bat', 'bar', 'book']}"
      ]
     },
     "execution_count": 4,
     "metadata": {},
     "output_type": "execute_result"
    }
   ],
   "source": [
    "# 利用上面的两种方法代替下面的传统逻辑\n",
    "for word in words:\n",
    "    letter = word[0]\n",
    "    if letter not in by_letter:\n",
    "        by_letter[letter] = [word]\n",
    "    else:\n",
    "        by_letter[letter].append(word)\n",
    "        \n",
    "by_letter"
   ]
  },
  {
   "cell_type": "code",
   "execution_count": null,
   "id": "ceacca35",
   "metadata": {},
   "outputs": [],
   "source": [
    "# way1：setdefault\n",
    "for word in words:\n",
    "    letter = word[0]\n",
    "    by_letter.setdefault(letter,[]).append(word)\n",
    "\n",
    "by_letter"
   ]
  },
  {
   "cell_type": "code",
   "execution_count": null,
   "id": "cd6af074",
   "metadata": {},
   "outputs": [],
   "source": [
    "# way2：defaultdict\n",
    "from collections import defaultdict\n",
    "by_letter = defaultdict(list)  # 向字典传入list类型\n",
    "for word in words:\n",
    "    by_letter[word[0]].append(word)\n",
    "    \n",
    "by_letter"
   ]
  },
  {
   "cell_type": "code",
   "execution_count": null,
   "id": "43efe004",
   "metadata": {},
   "outputs": [],
   "source": [
    "dict(by_letter)"
   ]
  },
  {
   "cell_type": "code",
   "execution_count": null,
   "id": "d09555e2",
   "metadata": {},
   "outputs": [],
   "source": [
    "seq = [1,2,3,None,4,None,5]\n",
    "total = 0\n",
    "for value in seq:\n",
    "    #if value is None:\n",
    "       # continue\n",
    "    total + = value"
   ]
  },
  {
   "cell_type": "code",
   "execution_count": null,
   "id": "08ffbc06",
   "metadata": {},
   "outputs": [],
   "source": [
    "c = {1,2}\n",
    "d = {2,3}\n",
    "c &= d\n",
    "c"
   ]
  },
  {
   "cell_type": "code",
   "execution_count": null,
   "id": "8367ca7f",
   "metadata": {},
   "outputs": [],
   "source": [
    "c = {1,2}\n",
    "d = {2,3}\n",
    "c |= d\n",
    "c"
   ]
  },
  {
   "cell_type": "code",
   "execution_count": null,
   "id": "2d5ec901",
   "metadata": {},
   "outputs": [],
   "source": []
  }
 ],
 "metadata": {
  "kernelspec": {
   "display_name": "Python 3 (ipykernel)",
   "language": "python",
   "name": "python3"
  },
  "language_info": {
   "codemirror_mode": {
    "name": "ipython",
    "version": 3
   },
   "file_extension": ".py",
   "mimetype": "text/x-python",
   "name": "python",
   "nbconvert_exporter": "python",
   "pygments_lexer": "ipython3",
   "version": "3.9.13"
  }
 },
 "nbformat": 4,
 "nbformat_minor": 5
}

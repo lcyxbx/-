{
 "cells": [
  {
   "cell_type": "markdown",
   "id": "7f741600",
   "metadata": {},
   "source": [
    "## 1 读写文本格式的数据"
   ]
  },
  {
   "cell_type": "markdown",
   "id": "8939bd70",
   "metadata": {},
   "source": [
    "### 1.1 read_csv/table"
   ]
  },
  {
   "cell_type": "code",
   "execution_count": 1,
   "id": "ab96b9a0",
   "metadata": {},
   "outputs": [],
   "source": [
    "import numpy as np\n",
    "import pandas as pd"
   ]
  },
  {
   "cell_type": "code",
   "execution_count": 2,
   "id": "ff3c5e1d",
   "metadata": {},
   "outputs": [
    {
     "data": {
      "text/html": [
       "<div>\n",
       "<style scoped>\n",
       "    .dataframe tbody tr th:only-of-type {\n",
       "        vertical-align: middle;\n",
       "    }\n",
       "\n",
       "    .dataframe tbody tr th {\n",
       "        vertical-align: top;\n",
       "    }\n",
       "\n",
       "    .dataframe thead th {\n",
       "        text-align: right;\n",
       "    }\n",
       "</style>\n",
       "<table border=\"1\" class=\"dataframe\">\n",
       "  <thead>\n",
       "    <tr style=\"text-align: right;\">\n",
       "      <th></th>\n",
       "      <th>a</th>\n",
       "      <th>b</th>\n",
       "      <th>c</th>\n",
       "      <th>d</th>\n",
       "      <th>message</th>\n",
       "    </tr>\n",
       "  </thead>\n",
       "  <tbody>\n",
       "    <tr>\n",
       "      <th>0</th>\n",
       "      <td>1</td>\n",
       "      <td>2</td>\n",
       "      <td>3</td>\n",
       "      <td>4</td>\n",
       "      <td>hello</td>\n",
       "    </tr>\n",
       "    <tr>\n",
       "      <th>1</th>\n",
       "      <td>5</td>\n",
       "      <td>6</td>\n",
       "      <td>7</td>\n",
       "      <td>8</td>\n",
       "      <td>world</td>\n",
       "    </tr>\n",
       "    <tr>\n",
       "      <th>2</th>\n",
       "      <td>9</td>\n",
       "      <td>10</td>\n",
       "      <td>11</td>\n",
       "      <td>12</td>\n",
       "      <td>foo</td>\n",
       "    </tr>\n",
       "  </tbody>\n",
       "</table>\n",
       "</div>"
      ],
      "text/plain": [
       "   a   b   c   d message\n",
       "0  1   2   3   4   hello\n",
       "1  5   6   7   8   world\n",
       "2  9  10  11  12     foo"
      ]
     },
     "execution_count": 2,
     "metadata": {},
     "output_type": "execute_result"
    }
   ],
   "source": [
    "pd.read_csv('ch06/f1.csv')"
   ]
  },
  {
   "cell_type": "code",
   "execution_count": null,
   "id": "e359aee5",
   "metadata": {},
   "outputs": [],
   "source": [
    "pd.read_table('ch06/f1.csv', sep=',')"
   ]
  },
  {
   "cell_type": "code",
   "execution_count": null,
   "id": "8f23bb09",
   "metadata": {},
   "outputs": [],
   "source": [
    "pd.read_csv('ch06/f2_无标题行.csv', header=None)"
   ]
  },
  {
   "cell_type": "code",
   "execution_count": null,
   "id": "7cdda61d",
   "metadata": {},
   "outputs": [],
   "source": [
    "pd.read_csv('ch06/f2_无标题行.csv', names=['a','b','c','d','message'])"
   ]
  },
  {
   "cell_type": "code",
   "execution_count": null,
   "id": "3d239ef0",
   "metadata": {},
   "outputs": [],
   "source": [
    "# 将message列做成DataFrame的索引\n",
    "pd.read_csv('ch06/f2_无标题行.csv', names=['a','b','c','d','message'], index_col='message')"
   ]
  },
  {
   "cell_type": "code",
   "execution_count": null,
   "id": "d8069ac7",
   "metadata": {},
   "outputs": [],
   "source": [
    "pd.read_csv('ch06/f3.csv', index_col=['key1', 'key2'])"
   ]
  },
  {
   "cell_type": "code",
   "execution_count": null,
   "id": "41f3c3d1",
   "metadata": {},
   "outputs": [],
   "source": [
    "list(open('ch06/f4.txt'))"
   ]
  },
  {
   "cell_type": "code",
   "execution_count": null,
   "id": "b472882a",
   "metadata": {},
   "outputs": [],
   "source": [
    "pd.read_table('ch06/f4.txt', sep='\\s+')  # 利用正则表达式\\s+匹配任何空白字符，包括空格、制表符、换页符等等"
   ]
  },
  {
   "cell_type": "code",
   "execution_count": null,
   "id": "2698eef0",
   "metadata": {},
   "outputs": [],
   "source": [
    "pd.read_table('ch06/f4.txt', sep='\\s+', skiprows=[1,2])"
   ]
  },
  {
   "cell_type": "markdown",
   "id": "f77f14eb",
   "metadata": {},
   "source": [
    "### 1.2 创建文件并写入DataFrame(只能用.to_csv)/ List数据.."
   ]
  },
  {
   "cell_type": "code",
   "execution_count": null,
   "id": "98c57225",
   "metadata": {},
   "outputs": [],
   "source": [
    "# 方法一：利用pandas、os\n",
    "import pandas as pd\n",
    "import numpy as np\n",
    "import os\n",
    "\n",
    "path = 'ch06/f5_os.csv'\n",
    "df = pd.DataFrame(np.random.randn(10000,4), columns=['one','two','three','four'])\n",
    "df2 = pd.DataFrame((chr(np.random.randint(65,90)) for i in range(10000)), columns=['key'])\n",
    "df = pd.concat([df, df2], axis=1)\n",
    "# pd.concat([df,df2], axis=1)\n",
    "\n",
    "df.to_csv(path, index=False, mode='a')\n",
    "# 文件不存在则写入header，否则则将df写入\n",
    "# if not os.path.exists(path):\n",
    "#    df.to_csv(path, header=['one','two','three','four','key'], index=False, mode='a')\n",
    "# else:\n",
    "#    df.to_csv(path, header=False, index=False, mode='a')"
   ]
  },
  {
   "cell_type": "code",
   "execution_count": null,
   "id": "13d3a562",
   "metadata": {},
   "outputs": [],
   "source": [
    "# 方法二：利用csv\n",
    "import numpy as np\n",
    "import csv\n",
    "\n",
    "path2 = 'ch06/f6_csv.csv'\n",
    "file = open(path2, 'a+', encoding='utf-8', newline='')\n",
    "\n",
    "csv_writer = csv.writer(file)\n",
    "csv_writer.writerow([f'one','two','three'])\n",
    "csv_writer.writerows([[1,'luke','96'],[2,'jack','85'],[3,'nick','84']])\n",
    "\n",
    "file.close()"
   ]
  },
  {
   "cell_type": "code",
   "execution_count": null,
   "id": "c9611af7",
   "metadata": {},
   "outputs": [],
   "source": [
    "# 逐行读取文件\n",
    "pd.read_csv('ch06/f5_os.csv', nrows=5)"
   ]
  },
  {
   "cell_type": "code",
   "execution_count": null,
   "id": "c2329b72",
   "metadata": {},
   "outputs": [],
   "source": [
    "# 逐块读取文件\n",
    "chunker = pd.read_csv('ch06/f5_os.csv', chunksize=1000)\n",
    "\n",
    "tot = pd.Series([])\n",
    "for piece in chunker:\n",
    "    # piece is a DataFrame,lenth is chunksize=1000,and piece[key] is a Series ,key is int ,value is the key column\n",
    "#     print(piece['key'].value_counts())\n",
    "    # \"piece[key] value_counts\" is a Series ,key is the key column, and value is the key count\n",
    "    tot = tot.add(piece['key'].value_counts(), fill_value=0)\n",
    "#     chunkercount+=1\n",
    "\n",
    "tot = tot.sort_values(ascending=False)\n",
    "tot[:10]"
   ]
  },
  {
   "cell_type": "markdown",
   "id": "4e4df3ee",
   "metadata": {},
   "source": [
    "### 1.3 将数据写出到文本格式 df.to_csv('sys.stdout', args)"
   ]
  },
  {
   "cell_type": "code",
   "execution_count": null,
   "id": "31d95118",
   "metadata": {},
   "outputs": [],
   "source": [
    "import sys\n",
    "import pandas as pd\n",
    "import numpy as np"
   ]
  },
  {
   "cell_type": "code",
   "execution_count": null,
   "id": "ca6881c0",
   "metadata": {},
   "outputs": [],
   "source": [
    "data = pd.DataFrame(np.random.randn(4,3), columns=['one','two','three'])\n",
    "data.to_csv('ch06/f7.csv')"
   ]
  },
  {
   "cell_type": "code",
   "execution_count": null,
   "id": "107ab4db",
   "metadata": {},
   "outputs": [],
   "source": [
    "pd.read_csv('ch06/f7.csv')"
   ]
  },
  {
   "cell_type": "code",
   "execution_count": null,
   "id": "0a0e2c27",
   "metadata": {},
   "outputs": [],
   "source": [
    "data.to_csv(sys.stdout)"
   ]
  },
  {
   "cell_type": "code",
   "execution_count": null,
   "id": "904d557c",
   "metadata": {},
   "outputs": [],
   "source": [
    "data.to_csv(sys.stdout, sep='|')  # 对data在文件中的数据做|匹配后重定向后打印出来，不改变原数据"
   ]
  },
  {
   "cell_type": "code",
   "execution_count": null,
   "id": "9f0f215c",
   "metadata": {},
   "outputs": [],
   "source": [
    "data2 = pd.read_csv('ch06/f8.csv')\n",
    "# data2.to_csv(sys.stdout)\n",
    "data2"
   ]
  },
  {
   "cell_type": "code",
   "execution_count": null,
   "id": "9c4e9cb7",
   "metadata": {},
   "outputs": [],
   "source": [
    "data2.to_csv(sys.stdout, na_rep='NULL')"
   ]
  },
  {
   "cell_type": "code",
   "execution_count": null,
   "id": "9175205e",
   "metadata": {},
   "outputs": [],
   "source": [
    "data2.to_csv(sys.stdout, index=False, header=False)"
   ]
  },
  {
   "cell_type": "code",
   "execution_count": null,
   "id": "091aabbc",
   "metadata": {},
   "outputs": [],
   "source": [
    "data2.to_csv(sys.stdout, index=False, columns=['a','b','c'])"
   ]
  },
  {
   "cell_type": "code",
   "execution_count": null,
   "id": "8c394843",
   "metadata": {},
   "outputs": [],
   "source": [
    "# Series写入文本\n",
    "dates = pd.date_range('1/1/2023', periods=7)\n",
    "ts = pd.Series(np.arange(7), index=dates)\n",
    "ts.to_csv('ch06/f9_tseries.csv')"
   ]
  },
  {
   "cell_type": "code",
   "execution_count": null,
   "id": "e5dabdec",
   "metadata": {},
   "outputs": [],
   "source": [
    "# pd.read_csv('ch06/f9_tseries.csv')"
   ]
  },
  {
   "cell_type": "code",
   "execution_count": null,
   "id": "85c32672",
   "metadata": {},
   "outputs": [],
   "source": [
    "ts.to_csv(sys.stdout)"
   ]
  },
  {
   "cell_type": "markdown",
   "id": "754b8d27",
   "metadata": {},
   "source": [
    "### 1.4 处理分隔符格式"
   ]
  },
  {
   "cell_type": "code",
   "execution_count": null,
   "id": "a84d5867",
   "metadata": {},
   "outputs": [],
   "source": [
    "data2 = pd.read_csv('ch06/f10.csv')\n",
    "data2.to_csv(sys.stdout)"
   ]
  },
  {
   "cell_type": "code",
   "execution_count": 1,
   "id": "c116b0ed",
   "metadata": {},
   "outputs": [
    {
     "name": "stdout",
     "output_type": "stream",
     "text": [
      "['a', 'b', 'c']\n",
      "['1', '2', '3']\n",
      "['1', '2', '3']\n"
     ]
    }
   ],
   "source": [
    "import csv\n",
    "f = open('ch06/f10.csv')\n",
    "reader = csv.reader(f)\n",
    "for line in reader:\n",
    "    print(line)"
   ]
  },
  {
   "cell_type": "code",
   "execution_count": null,
   "id": "cddb314f",
   "metadata": {},
   "outputs": [],
   "source": [
    "import csv\n",
    "# 1.读取文件到一个多行列表；此次利用with打开文件，则with外的其他地方读不到f\n",
    "with open('ch06/f10.csv') as f:\n",
    "    lines = list(csv.reader(f))"
   ]
  },
  {
   "cell_type": "code",
   "execution_count": null,
   "id": "f4a00a82",
   "metadata": {},
   "outputs": [],
   "source": [
    "# 2.将⾏分为标题⾏和数据⾏\n",
    "header, values = lines[0], lines"
   ]
  },
  {
   "cell_type": "code",
   "execution_count": null,
   "id": "538fa150",
   "metadata": {},
   "outputs": [],
   "source": [
    "# 3.字典构造式和zip（*value），将行转置换为列\n",
    "data_dict = {h: v for h, v in zip(header, zip(*values))}"
   ]
  },
  {
   "cell_type": "code",
   "execution_count": null,
   "id": "300d046d",
   "metadata": {},
   "outputs": [],
   "source": [
    "# 4_1. 定义csv.Dialect的一个子类\n",
    "class my_dialect(csv.Dialect):\n",
    "    lineterminator = '\\n'\n",
    "    delimiter = ';'\n",
    "    quotechar = '\"'\n",
    "    quoting = csv.QUOTE_MINIMAL\n",
    "f2 = open('ch06/f10.csv')\n",
    "reader = csv.reader(f2, dialect=my_dialect)"
   ]
  },
  {
   "cell_type": "code",
   "execution_count": null,
   "id": "ad658aad",
   "metadata": {},
   "outputs": [],
   "source": [
    "# 4_2. 直接参数写明，不写子类\n",
    "f2 = open('ch06/f10.csv')\n",
    "reader = csv.reader(f2, delimiter='|')"
   ]
  },
  {
   "cell_type": "code",
   "execution_count": null,
   "id": "c64921df",
   "metadata": {},
   "outputs": [],
   "source": [
    "for line in reader:\n",
    "    print(line)"
   ]
  },
  {
   "cell_type": "code",
   "execution_count": null,
   "id": "971b9b6d",
   "metadata": {},
   "outputs": [],
   "source": [
    "with open('mydata.csv', 'w') as f:\n",
    "    writer = csv.writer(f, dialect=my_dialect)\n",
    "    writer.writerow(('one', 'two', 'three'))\n",
    "    writer.writerow(('1', '2', '3'))\n",
    "    writer.writerow(('4', '5', '6'))\n",
    "    writer.writerow(('7', '8', '9'))"
   ]
  },
  {
   "cell_type": "markdown",
   "id": "6d18d8ac",
   "metadata": {},
   "source": [
    "### 1.5 JSON数据"
   ]
  },
  {
   "cell_type": "code",
   "execution_count": null,
   "id": "932fdd38",
   "metadata": {},
   "outputs": [],
   "source": [
    "import json\n",
    "import pandas as pd"
   ]
  },
  {
   "cell_type": "code",
   "execution_count": null,
   "id": "57815003",
   "metadata": {},
   "outputs": [],
   "source": [
    "obj = \"\"\"\n",
    "{\"name\": \"Wes\",\n",
    " \"places_lived\": [\"United States\", \"Spain\", \"Germany\"],\n",
    " \"pet\": null,\n",
    " \"siblings\": [{\"name\": \"Scott\", \"age\": 25, \"pet\": \"Zuko\"},\n",
    "              {\"name\": \"Katie\", \"age\": 33, \"pet\": [\"Sixes\", \"Stache\", \"Cisco\"]}]\n",
    "}\"\"\"\n",
    "# siblings兄弟姐妹\n",
    "\n",
    "result = json.loads(obj)\n",
    "result"
   ]
  },
  {
   "cell_type": "code",
   "execution_count": null,
   "id": "cf749b42",
   "metadata": {},
   "outputs": [],
   "source": [
    "# json.dumps则将Python对象转换成JSON格式\n",
    "json.dumps(result)"
   ]
  },
  {
   "cell_type": "code",
   "execution_count": null,
   "id": "9ce5dd79",
   "metadata": {},
   "outputs": [],
   "source": [
    "# JSON对象转换为DataFrame：向DataFrame构造器传入一个字典的列表\n",
    "siblings = pd.DataFrame(result['siblings'], columns=['name', 'age'])\n",
    "siblings"
   ]
  },
  {
   "cell_type": "code",
   "execution_count": null,
   "id": "3aeaeb8c",
   "metadata": {},
   "outputs": [],
   "source": [
    "tables = pd.read_html('ch06/fdic_failed_bank_list.html')"
   ]
  },
  {
   "cell_type": "code",
   "execution_count": null,
   "id": "5241c4fc",
   "metadata": {},
   "outputs": [],
   "source": [
    "len(tables)"
   ]
  },
  {
   "cell_type": "code",
   "execution_count": null,
   "id": "dd8b9127",
   "metadata": {},
   "outputs": [],
   "source": [
    "failures = tables[0]\n",
    "failures.head()"
   ]
  },
  {
   "cell_type": "code",
   "execution_count": null,
   "id": "6740b631",
   "metadata": {},
   "outputs": [],
   "source": [
    "# 按年份计算倒闭的银⾏数\n",
    "close_timestamps = pd.to_datetime(failures['Closing Date'])\n",
    "close_timestamps.dt.year.value_counts()"
   ]
  },
  {
   "cell_type": "markdown",
   "id": "78fd887e",
   "metadata": {},
   "source": [
    "### 1.6 利用lxml.objectify解析XML"
   ]
  },
  {
   "cell_type": "code",
   "execution_count": null,
   "id": "4b9b52ac",
   "metadata": {},
   "outputs": [],
   "source": [
    "from lxml import objectify\n",
    "import pandas as pd"
   ]
  },
  {
   "cell_type": "code",
   "execution_count": null,
   "id": "cbc56732",
   "metadata": {},
   "outputs": [],
   "source": [
    "path = 'ch06/Performance_MNR.xml'\n",
    "parsed = objectify.parse(open(path))\n",
    "root = parsed.getroot()"
   ]
  },
  {
   "cell_type": "code",
   "execution_count": null,
   "id": "c32229bb",
   "metadata": {},
   "outputs": [],
   "source": [
    "# root.INDICATOR返回⼀个⽤于产⽣各个<INDICATOR>XML元素的⽣成器。\n",
    "data = []\n",
    "skip_fields = ['PARENT_SEQ', 'INDICATOR_SEQ', 'DESIRED_CHANGE', 'DECIMAL_PLACES']\n",
    "\n",
    "for elt in root.INDICATOR_UNIT:\n",
    "    el_data = {}\n",
    "    for child in elt.getchildren():\n",
    "        if child.tag in skip_fields:\n",
    "            continue\n",
    "        el_data[child.tag] = child.pyval\n",
    "    data.append(el_data)"
   ]
  },
  {
   "cell_type": "code",
   "execution_count": null,
   "id": "1f74ad78",
   "metadata": {},
   "outputs": [],
   "source": [
    "perf = pd.DataFrame(data)\n",
    "perf.head()"
   ]
  },
  {
   "cell_type": "code",
   "execution_count": null,
   "id": "58c9ff9a",
   "metadata": {},
   "outputs": [],
   "source": [
    "from io import StringIO\n",
    "tag = '<a href=\"http://www.google.com\">Google</a>'\n",
    "root = objectify.parse(StringIO(tag)).getroot()"
   ]
  },
  {
   "cell_type": "code",
   "execution_count": null,
   "id": "c14a9af8",
   "metadata": {},
   "outputs": [],
   "source": [
    "root"
   ]
  },
  {
   "cell_type": "code",
   "execution_count": null,
   "id": "e401d1dd",
   "metadata": {},
   "outputs": [],
   "source": [
    "root.get('href')"
   ]
  },
  {
   "cell_type": "code",
   "execution_count": null,
   "id": "9f74a10e",
   "metadata": {},
   "outputs": [],
   "source": [
    "root.text"
   ]
  },
  {
   "cell_type": "markdown",
   "id": "c600b931",
   "metadata": {},
   "source": [
    "## 2 二进制数据格式"
   ]
  },
  {
   "cell_type": "markdown",
   "id": "2166e11a",
   "metadata": {},
   "source": [
    "### 2.1 使用HDF5格式"
   ]
  },
  {
   "cell_type": "code",
   "execution_count": 2,
   "id": "49d99a29",
   "metadata": {},
   "outputs": [],
   "source": [
    "import pandas as pd\n",
    "import numpy as np"
   ]
  },
  {
   "cell_type": "code",
   "execution_count": 3,
   "id": "21f5c368",
   "metadata": {},
   "outputs": [
    {
     "data": {
      "text/html": [
       "<div>\n",
       "<style scoped>\n",
       "    .dataframe tbody tr th:only-of-type {\n",
       "        vertical-align: middle;\n",
       "    }\n",
       "\n",
       "    .dataframe tbody tr th {\n",
       "        vertical-align: top;\n",
       "    }\n",
       "\n",
       "    .dataframe thead th {\n",
       "        text-align: right;\n",
       "    }\n",
       "</style>\n",
       "<table border=\"1\" class=\"dataframe\">\n",
       "  <thead>\n",
       "    <tr style=\"text-align: right;\">\n",
       "      <th></th>\n",
       "      <th>a</th>\n",
       "      <th>b</th>\n",
       "      <th>c</th>\n",
       "      <th>d</th>\n",
       "      <th>message</th>\n",
       "    </tr>\n",
       "  </thead>\n",
       "  <tbody>\n",
       "    <tr>\n",
       "      <th>0</th>\n",
       "      <td>1</td>\n",
       "      <td>2</td>\n",
       "      <td>3</td>\n",
       "      <td>4</td>\n",
       "      <td>hello</td>\n",
       "    </tr>\n",
       "    <tr>\n",
       "      <th>1</th>\n",
       "      <td>5</td>\n",
       "      <td>6</td>\n",
       "      <td>7</td>\n",
       "      <td>8</td>\n",
       "      <td>world</td>\n",
       "    </tr>\n",
       "    <tr>\n",
       "      <th>2</th>\n",
       "      <td>9</td>\n",
       "      <td>10</td>\n",
       "      <td>11</td>\n",
       "      <td>12</td>\n",
       "      <td>foo</td>\n",
       "    </tr>\n",
       "  </tbody>\n",
       "</table>\n",
       "</div>"
      ],
      "text/plain": [
       "   a   b   c   d message\n",
       "0  1   2   3   4   hello\n",
       "1  5   6   7   8   world\n",
       "2  9  10  11  12     foo"
      ]
     },
     "execution_count": 3,
     "metadata": {},
     "output_type": "execute_result"
    }
   ],
   "source": [
    "frame = pd.read_csv('ch06/f1.csv')\n",
    "frame"
   ]
  },
  {
   "cell_type": "code",
   "execution_count": null,
   "id": "d15f8cdb",
   "metadata": {},
   "outputs": [],
   "source": [
    "frame.to_pickle('ch06/frame_pickle')"
   ]
  },
  {
   "cell_type": "code",
   "execution_count": null,
   "id": "871ecaf9",
   "metadata": {},
   "outputs": [],
   "source": [
    "pd.read_pickle('ch06/frame_pickle')"
   ]
  },
  {
   "cell_type": "code",
   "execution_count": null,
   "id": "af4e87eb",
   "metadata": {},
   "outputs": [],
   "source": [
    "frame = pd.DataFrame({'a': np.random.randn(100)})"
   ]
  },
  {
   "cell_type": "code",
   "execution_count": null,
   "id": "4a34d76d",
   "metadata": {},
   "outputs": [],
   "source": [
    "store = pd.HDFStore('ch06/mydata.h5')"
   ]
  },
  {
   "cell_type": "code",
   "execution_count": null,
   "id": "3afb62eb",
   "metadata": {},
   "outputs": [],
   "source": [
    "# 添加数据：way1\n",
    "store['obj1'] = frame"
   ]
  },
  {
   "cell_type": "code",
   "execution_count": null,
   "id": "3a93c9c9",
   "metadata": {},
   "outputs": [],
   "source": [
    "store['obj1_col'] = frame['a']"
   ]
  },
  {
   "cell_type": "code",
   "execution_count": null,
   "id": "78e83036",
   "metadata": {},
   "outputs": [],
   "source": [
    "store"
   ]
  },
  {
   "cell_type": "code",
   "execution_count": null,
   "id": "d6027b0f",
   "metadata": {},
   "outputs": [],
   "source": [
    "# 查询/ 读取数据\n",
    "store['obj1']"
   ]
  },
  {
   "cell_type": "code",
   "execution_count": null,
   "id": "ff8b9f07",
   "metadata": {},
   "outputs": [],
   "source": [
    "# way2\n",
    "store.put('obj2', frame, format='table')"
   ]
  },
  {
   "cell_type": "code",
   "execution_count": null,
   "id": "2a4dd7a4",
   "metadata": {},
   "outputs": [],
   "source": [
    "store.select('obj2', where=['index >= 10 and index <= 15'])"
   ]
  },
  {
   "cell_type": "code",
   "execution_count": null,
   "id": "60d54f40",
   "metadata": {},
   "outputs": [],
   "source": [
    "store.close()"
   ]
  },
  {
   "cell_type": "code",
   "execution_count": null,
   "id": "22b7e57d",
   "metadata": {},
   "outputs": [],
   "source": [
    "# way3\n",
    "frame.to_hdf('mydata.h5', 'obj3', format='table')"
   ]
  },
  {
   "cell_type": "code",
   "execution_count": null,
   "id": "83197c97",
   "metadata": {},
   "outputs": [],
   "source": [
    "pd.read_hdf('mydata.h5','obj3', where=['index < 5']) "
   ]
  },
  {
   "cell_type": "markdown",
   "id": "916c2f5b",
   "metadata": {},
   "source": [
    "### 2.2 读取Microsoft Excel文件"
   ]
  },
  {
   "cell_type": "code",
   "execution_count": null,
   "id": "cf9c2d78",
   "metadata": {},
   "outputs": [],
   "source": [
    "import pandas as pd"
   ]
  },
  {
   "cell_type": "code",
   "execution_count": null,
   "id": "935e7fae",
   "metadata": {},
   "outputs": [],
   "source": [
    "# ExcelFile + read_excel：读取excel文件\n",
    "xlsx = pd.ExcelFile('ch06/ex1.xlsx')\n",
    "pd.read_excel(xlsx, 'Sheet1')"
   ]
  },
  {
   "cell_type": "code",
   "execution_count": null,
   "id": "ecda36ce",
   "metadata": {},
   "outputs": [],
   "source": [
    "frame = pd.read_excel('ch06/ex1.xlsx', 'Sheet1')\n",
    "frame"
   ]
  },
  {
   "cell_type": "code",
   "execution_count": null,
   "id": "70dae86d",
   "metadata": {},
   "outputs": [],
   "source": [
    "# ExcelWriter + to_excel：写入Excel文件\n",
    "writer = pd.ExcelWriter('ch06/ex2.xlsx')\n",
    "frame.to_excel(writer, 'Sheet1')  # frame.to_excel('examples/ex2.xlsx')"
   ]
  },
  {
   "cell_type": "code",
   "execution_count": null,
   "id": "dff33403",
   "metadata": {},
   "outputs": [],
   "source": [
    "writer.save()"
   ]
  },
  {
   "cell_type": "markdown",
   "id": "7fb0ede8",
   "metadata": {},
   "source": [
    "### 2.3 Web APIs交互"
   ]
  },
  {
   "cell_type": "code",
   "execution_count": null,
   "id": "17f3fe95",
   "metadata": {},
   "outputs": [],
   "source": [
    "import requests"
   ]
  },
  {
   "cell_type": "code",
   "execution_count": null,
   "id": "e09d53a2",
   "metadata": {},
   "outputs": [],
   "source": [
    "url = 'https://api.github.com/repos/pandas-dev/pandas/issues'"
   ]
  },
  {
   "cell_type": "code",
   "execution_count": null,
   "id": "d5e60963",
   "metadata": {},
   "outputs": [],
   "source": [
    "resp = requests.get(url)\n",
    "resp"
   ]
  },
  {
   "cell_type": "code",
   "execution_count": null,
   "id": "6b64a693",
   "metadata": {},
   "outputs": [],
   "source": [
    "data = resp.json()"
   ]
  },
  {
   "cell_type": "code",
   "execution_count": null,
   "id": "5b250c88",
   "metadata": {},
   "outputs": [],
   "source": [
    "data[0]['title']"
   ]
  },
  {
   "cell_type": "code",
   "execution_count": null,
   "id": "906f3e08",
   "metadata": {},
   "outputs": [],
   "source": [
    "issues = pd.DataFrame(data, columns=['number', 'title ', 'labels', 'state'])\n",
    "issues"
   ]
  },
  {
   "cell_type": "markdown",
   "id": "07d60822",
   "metadata": {},
   "source": [
    "### 2.4 数据库交互"
   ]
  },
  {
   "cell_type": "code",
   "execution_count": null,
   "id": "27ef4575",
   "metadata": {},
   "outputs": [],
   "source": [
    "import sqlite3\n",
    "import pandas as pd"
   ]
  },
  {
   "cell_type": "code",
   "execution_count": null,
   "id": "0b2c2141",
   "metadata": {},
   "outputs": [],
   "source": [
    "# 该API打开一个到 SQLite数据库文件 database的链接\n",
    "con = sqlite3.connect('mydata.sqlite')"
   ]
  },
  {
   "cell_type": "code",
   "execution_count": null,
   "id": "9da08e18",
   "metadata": {},
   "outputs": [],
   "source": [
    "query = \"\"\"\n",
    "CREATE TABLE test\n",
    "(a VARCHAR(20), b VARCHAR(20), c REAL, d INTEGER);\"\"\"\n",
    "\n",
    "# 执行sql语句，可以用占位符？表示参数\n",
    "con.execute(query)"
   ]
  },
  {
   "cell_type": "code",
   "execution_count": null,
   "id": "d7860ff0",
   "metadata": {},
   "outputs": [],
   "source": [
    "# 提交当前事务，所做的动作对数据库连接才可见 \n",
    "con.commit()"
   ]
  },
  {
   "cell_type": "code",
   "execution_count": null,
   "id": "6ef84d25",
   "metadata": {},
   "outputs": [],
   "source": [
    "data = [('Atlanta', 'Georgia', 1.25, 6),\n",
    "('Tallahassee', 'Florida', 2.6, 3),\n",
    "('Sacramento', 'California', 1.7, 5)]\n",
    "\n",
    "stmt = \"INSERT INTO test VALUES(?, ?, ?, ?)\"\n",
    "\n",
    "# 对data执行一个sql命令（stmt）\n",
    "con.executemany(stmt, data)"
   ]
  },
  {
   "cell_type": "code",
   "execution_count": null,
   "id": "e2260c3b",
   "metadata": {},
   "outputs": [],
   "source": [
    "cursor = con.execute('select * from test')"
   ]
  },
  {
   "cell_type": "code",
   "execution_count": null,
   "id": "4ba3dda1",
   "metadata": {},
   "outputs": [],
   "source": [
    "rows = cursor.fetchall()  # 获取查询结果集中所有（剩余）的行，返回一个列表"
   ]
  },
  {
   "cell_type": "code",
   "execution_count": null,
   "id": "8a9f53cf",
   "metadata": {},
   "outputs": [],
   "source": [
    "rows"
   ]
  },
  {
   "cell_type": "code",
   "execution_count": null,
   "id": "1854f555",
   "metadata": {},
   "outputs": [],
   "source": [
    "cursor.description"
   ]
  },
  {
   "cell_type": "code",
   "execution_count": null,
   "id": "24a85367",
   "metadata": {},
   "outputs": [],
   "source": [
    "# 元组列表传给DataFrame构造器，但还需要列名（位于光标的description属性中）\n",
    "pd.DataFrame(rows, columns=[x[0] for x in cursor.description])"
   ]
  },
  {
   "cell_type": "code",
   "execution_count": null,
   "id": "0ef1c5e8",
   "metadata": {},
   "outputs": [],
   "source": [
    "import sqlalchemy as sqla\n",
    "import pandas as pd"
   ]
  },
  {
   "cell_type": "code",
   "execution_count": null,
   "id": "db571c5a",
   "metadata": {},
   "outputs": [],
   "source": [
    "db = sqla.create_engine('sqlite:///mydata.sqlite')"
   ]
  },
  {
   "cell_type": "code",
   "execution_count": null,
   "id": "b33a64ab",
   "metadata": {},
   "outputs": [],
   "source": [
    "pd.read_sql('select * from test', db)"
   ]
  },
  {
   "cell_type": "markdown",
   "id": "e7de432d",
   "metadata": {},
   "source": [
    "#### 连接mysql并创建表添加数据"
   ]
  },
  {
   "cell_type": "code",
   "execution_count": 1,
   "id": "a2139619",
   "metadata": {},
   "outputs": [],
   "source": [
    "# python连接mysql，有2种方式，分别是利用sqlalchemy、pymysql这2个包连接\n",
    "import pandas as pd\n",
    "import numpy as np\n",
    "# from sqlalchemy import create_engine\n",
    "import pymysql"
   ]
  },
  {
   "cell_type": "code",
   "execution_count": 3,
   "id": "66bcb385",
   "metadata": {},
   "outputs": [],
   "source": [
    "# 创建数据库连接\n",
    "connect = pymysql.connect(\n",
    "    host = 'localhost',\n",
    "    db = 'cy01',\n",
    "    user = 'root',\n",
    "    passwd = '123456',\n",
    "    charset = 'utf8'\n",
    "    # use_unicode = True\n",
    ")\n",
    "\n",
    "# 使用cursor()方法创建一个游标对象，然后赋值给cur\n",
    "cur = connect.cursor()"
   ]
  },
  {
   "cell_type": "code",
   "execution_count": null,
   "id": "bc526f41",
   "metadata": {},
   "outputs": [],
   "source": [
    "# 将存在的表删除\n",
    "sql_drop = \"\"\"\n",
    "    DROP TABLE IF EXISTS from_python\"\"\"\n",
    "\n",
    "cur.execute(sql_drop)\n",
    "connect.commit()  # 提交到数据库执行；事务代码"
   ]
  },
  {
   "cell_type": "code",
   "execution_count": null,
   "id": "d9d866f8",
   "metadata": {},
   "outputs": [],
   "source": [
    "# 创建数据库表\n",
    "sql_create = \"\"\"\n",
    "    CREATE TABLE from_python(id INTEGER(10) PRIMARY KEY, name VARCHAR(20));\n",
    "\"\"\"\n",
    "cur.execute(sql_create)\n",
    "connect.commit()\n",
    "connect.close()"
   ]
  },
  {
   "cell_type": "code",
   "execution_count": null,
   "id": "7af9504e",
   "metadata": {},
   "outputs": [],
   "source": [
    "help(pymysql.connect)"
   ]
  },
  {
   "cell_type": "code",
   "execution_count": null,
   "id": "305d5982",
   "metadata": {},
   "outputs": [],
   "source": [
    "# 插入数据\n",
    "# sql = \"INSERT INTO EMPLOYEE(FIRST_NAME, \\\n",
    "#        LAST_NAME, AGE, SEX, INCOME) \\\n",
    "#        VALUES (%s, %s, %s, %s, %s )\" % \\\n",
    "#        ('Mac', 'Mohan', 20, 'M', 2000)\n",
    "sql = \"\"\"INSERT INTO from_python(id, name) VALUES(1, 'wren')\"\"\"\n",
    "try:\n",
    "    # 执行sql语句\n",
    "    cur.execute(sql)\n",
    "    # 提交到数据库执行\n",
    "    connect.commit()\n",
    "except:\n",
    "    connect.rollback()\n",
    "\n",
    "# 关闭数据库连接\n",
    "connect.close()"
   ]
  },
  {
   "cell_type": "code",
   "execution_count": 5,
   "id": "c9be7f53",
   "metadata": {},
   "outputs": [
    {
     "data": {
      "text/plain": [
       "((1, 'wren'),)"
      ]
     },
     "execution_count": 5,
     "metadata": {},
     "output_type": "execute_result"
    }
   ],
   "source": [
    "sql = \"SELECT * FROM from_python;\"\n",
    "cur.execute(sql)\n",
    "\n",
    "# 获取所有记录列表\n",
    "results = cur.fetchall()\n",
    "results"
   ]
  },
  {
   "cell_type": "code",
   "execution_count": null,
   "id": "375ed4f4",
   "metadata": {},
   "outputs": [],
   "source": []
  }
 ],
 "metadata": {
  "kernelspec": {
   "display_name": "Python 3 (ipykernel)",
   "language": "python",
   "name": "python3"
  },
  "language_info": {
   "codemirror_mode": {
    "name": "ipython",
    "version": 3
   },
   "file_extension": ".py",
   "mimetype": "text/x-python",
   "name": "python",
   "nbconvert_exporter": "python",
   "pygments_lexer": "ipython3",
   "version": "3.9.13"
  }
 },
 "nbformat": 4,
 "nbformat_minor": 5
}

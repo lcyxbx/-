{
 "cells": [
  {
   "cell_type": "code",
   "execution_count": 1,
   "id": "87905d3c",
   "metadata": {},
   "outputs": [
    {
     "name": "stdout",
     "output_type": "stream",
     "text": [
      "hello,wren\n"
     ]
    }
   ],
   "source": [
    "print('hello,wren')"
   ]
  },
  {
   "cell_type": "code",
   "execution_count": 6,
   "id": "b16a2f03",
   "metadata": {},
   "outputs": [],
   "source": [
    "%run 脚本01.py"
   ]
  },
  {
   "cell_type": "code",
   "execution_count": 10,
   "id": "9ff760aa",
   "metadata": {},
   "outputs": [
    {
     "data": {
      "text/plain": [
       "15"
      ]
     },
     "execution_count": 10,
     "metadata": {},
     "output_type": "execute_result"
    }
   ],
   "source": [
    "result"
   ]
  },
  {
   "cell_type": "code",
   "execution_count": 5,
   "id": "106cbf77",
   "metadata": {},
   "outputs": [],
   "source": []
  }
 ],
 "metadata": {
  "kernelspec": {
   "display_name": "Python 3 (ipykernel)",
   "language": "python",
   "name": "python3"
  },
  "language_info": {
   "codemirror_mode": {
    "name": "ipython",
    "version": 3
   },
   "file_extension": ".py",
   "mimetype": "text/x-python",
   "name": "python",
   "nbconvert_exporter": "python",
   "pygments_lexer": "ipython3",
   "version": "3.9.13"
  }
 },
 "nbformat": 4,
 "nbformat_minor": 5
}

{
 "cells": [
  {
   "cell_type": "code",
   "execution_count": null,
   "id": "b597f96e",
   "metadata": {},
   "outputs": [],
   "source": [
    "import numpy as np"
   ]
  },
  {
   "cell_type": "code",
   "execution_count": null,
   "id": "16ae35a5",
   "metadata": {},
   "outputs": [],
   "source": [
    "myList = list(range(10000))\n",
    "myArray = np.arange(10000)\n",
    "\n",
    "# 基于NumPy的算法要⽐纯Python快10到100倍（甚⾄更快），并且使⽤的内存更少\n",
    "%time for _ in range(10): myArray2 = myArray * 2\n",
    "%time for _ in range(10): myList2 = [x * 2 for x in myList]"
   ]
  },
  {
   "cell_type": "code",
   "execution_count": null,
   "id": "0cdba81b",
   "metadata": {},
   "outputs": [],
   "source": [
    "print(data * 10)"
   ]
  },
  {
   "cell_type": "code",
   "execution_count": null,
   "id": "5c0cc949",
   "metadata": {},
   "outputs": [],
   "source": [
    "data + data"
   ]
  },
  {
   "cell_type": "code",
   "execution_count": null,
   "id": "e3d35ee2",
   "metadata": {},
   "outputs": [],
   "source": [
    "print(data.shape)\n",
    "print(data.dtype)"
   ]
  },
  {
   "cell_type": "code",
   "execution_count": null,
   "id": "9817302d",
   "metadata": {},
   "outputs": [],
   "source": [
    "np.array([1,2,3]).dtype"
   ]
  },
  {
   "cell_type": "markdown",
   "id": "d32f584c",
   "metadata": {},
   "source": [
    "## 1 NumPy的ndarray：⼀种多维数组对象"
   ]
  },
  {
   "cell_type": "markdown",
   "id": "e98476d0",
   "metadata": {},
   "source": [
    "### 1.1 创建ndarray\n",
    "（1）使⽤array()。它接受⼀切序列型的对象（包括其他数组）\n",
    "\n",
    "（2）⼀些函数，eg.zeros()/ones(), empty()生成嵌套数组；其中参数是元组\n",
    "\n",
    "（3） arange()\n",
    "\n",
    "（4）random.randn()等等"
   ]
  },
  {
   "cell_type": "code",
   "execution_count": null,
   "id": "fcab3a7a",
   "metadata": {},
   "outputs": [],
   "source": [
    "#（1）使用array函数创建ndarray\n",
    "data = [1, 2, 3, 4]\n",
    "arr1 = np.array(data)\n",
    "arr1\n",
    "\n",
    "# 嵌套数组\n",
    "# data = [[1,2,3,4],[1,2,3,4]]\n",
    "# np.array(data)"
   ]
  },
  {
   "cell_type": "code",
   "execution_count": null,
   "id": "1d8ca37e",
   "metadata": {},
   "outputs": [],
   "source": [
    "data2 = {1, 3, 5}\n",
    "arr2 = np.array(data2)\n",
    "arr2"
   ]
  },
  {
   "cell_type": "code",
   "execution_count": null,
   "id": "b16b93f0",
   "metadata": {},
   "outputs": [],
   "source": [
    "#（2）一些函数\n",
    "np.zeros((3,6))"
   ]
  },
  {
   "cell_type": "code",
   "execution_count": null,
   "id": "da637b14",
   "metadata": {},
   "outputs": [],
   "source": [
    "np.empty((2,3,2))"
   ]
  },
  {
   "cell_type": "code",
   "execution_count": null,
   "id": "e52218c6",
   "metadata": {},
   "outputs": [],
   "source": [
    "#（3）arange函数\n",
    "np.arange(10)"
   ]
  },
  {
   "cell_type": "code",
   "execution_count": null,
   "id": "30a07f08",
   "metadata": {},
   "outputs": [],
   "source": [
    "#（4）random.randn\n",
    "data = np.random.randn(2,3)\n",
    "data"
   ]
  },
  {
   "cell_type": "markdown",
   "id": "2464bdc5",
   "metadata": {},
   "source": [
    "### 1.2 ndarray的数据类型"
   ]
  },
  {
   "cell_type": "code",
   "execution_count": null,
   "id": "9c048ac7",
   "metadata": {},
   "outputs": [],
   "source": [
    "arr1 = np.array([1,2,3], dtype = np.int32)\n",
    "arr2 = np.array([1.1,2.3,3], dtype = np.float64)"
   ]
  },
  {
   "cell_type": "code",
   "execution_count": null,
   "id": "29ee1713",
   "metadata": {},
   "outputs": [],
   "source": [
    "arr1.dtype"
   ]
  },
  {
   "cell_type": "code",
   "execution_count": null,
   "id": "84d79bd1",
   "metadata": {},
   "outputs": [],
   "source": [
    "# 类型转换\n",
    "arr1.astype(np.float32)"
   ]
  },
  {
   "cell_type": "code",
   "execution_count": null,
   "id": "26014eee",
   "metadata": {},
   "outputs": [],
   "source": [
    "arr2.astype(np.int32)"
   ]
  },
  {
   "cell_type": "markdown",
   "id": "a655712d",
   "metadata": {},
   "source": [
    "### 1.3 NumPy数组的运算"
   ]
  },
  {
   "cell_type": "code",
   "execution_count": null,
   "id": "25e96b4c",
   "metadata": {},
   "outputs": [],
   "source": [
    "arr1 * arr1"
   ]
  },
  {
   "cell_type": "code",
   "execution_count": null,
   "id": "beed895b",
   "metadata": {},
   "outputs": [],
   "source": [
    "arr1 ** 2"
   ]
  },
  {
   "cell_type": "code",
   "execution_count": null,
   "id": "8bd6f2c3",
   "metadata": {},
   "outputs": [],
   "source": [
    "arr1 > arr2"
   ]
  },
  {
   "cell_type": "markdown",
   "id": "52a6166e",
   "metadata": {},
   "source": [
    "### 1.4 基本的索引和切片\n",
    "数组切⽚跟列表最重要的区别在于，数组切⽚是原始数组的视图。这意味着数据不会被复制，视图上的任何修改都会直接反映到源数组上。可以使用copy()"
   ]
  },
  {
   "cell_type": "code",
   "execution_count": null,
   "id": "f9b11f59",
   "metadata": {},
   "outputs": [],
   "source": [
    "arr = np.arange(10)\n",
    "arr[5:8] = 12\n",
    "arr"
   ]
  },
  {
   "cell_type": "code",
   "execution_count": null,
   "id": "e94900ab",
   "metadata": {},
   "outputs": [],
   "source": [
    "arr2 = arr[5:8]\n",
    "arr2[1] = 100\n",
    "\n",
    "arr"
   ]
  },
  {
   "cell_type": "code",
   "execution_count": null,
   "id": "b7d450d0",
   "metadata": {},
   "outputs": [],
   "source": [
    "arr[0:3] = 0\n",
    "arr3 = arr[0:3]\n",
    "arr3"
   ]
  },
  {
   "cell_type": "code",
   "execution_count": null,
   "id": "447e76da",
   "metadata": {},
   "outputs": [],
   "source": [
    "arr3[:] = 200\n",
    "arr3"
   ]
  },
  {
   "cell_type": "code",
   "execution_count": null,
   "id": "34d1393c",
   "metadata": {},
   "outputs": [],
   "source": [
    "# 二维数组\n",
    "arr2d = np.array([[1,2,3],\n",
    "                  [4,5,6],\n",
    "                  [7,8,9]])"
   ]
  },
  {
   "cell_type": "code",
   "execution_count": null,
   "id": "bf0070b4",
   "metadata": {},
   "outputs": [],
   "source": [
    "# 等价arr2d[0, 2]\n",
    "arr2d[0][2]"
   ]
  },
  {
   "cell_type": "code",
   "execution_count": null,
   "id": "ce3d2b77",
   "metadata": {},
   "outputs": [],
   "source": [
    "arr2d_2 = arr2d.copy()"
   ]
  },
  {
   "cell_type": "code",
   "execution_count": null,
   "id": "fc44fadc",
   "metadata": {},
   "outputs": [],
   "source": [
    "arr2d_2[0] = 1\n",
    "arr2d_2"
   ]
  },
  {
   "cell_type": "code",
   "execution_count": null,
   "id": "47a82b85",
   "metadata": {},
   "outputs": [],
   "source": [
    "arr2d"
   ]
  },
  {
   "cell_type": "code",
   "execution_count": null,
   "id": "ff5540a8",
   "metadata": {},
   "outputs": [],
   "source": [
    "# 三维数组\n",
    "arr3d = np.array([[[1,2,3,4],\n",
    "                 [5,6,7,8]],\n",
    "                [[1,2,3,5],\n",
    "                 [4,5,6,3]]])\n",
    "arr3d[0][1][1]"
   ]
  },
  {
   "cell_type": "code",
   "execution_count": null,
   "id": "0e62a539",
   "metadata": {},
   "outputs": [],
   "source": [
    "arr3d[:1]"
   ]
  },
  {
   "cell_type": "code",
   "execution_count": null,
   "id": "6cf3776e",
   "metadata": {},
   "outputs": [],
   "source": [
    "arr3d[:1, 1:]"
   ]
  },
  {
   "cell_type": "code",
   "execution_count": null,
   "id": "460dc5cd",
   "metadata": {},
   "outputs": [],
   "source": [
    "data = np.random.randn(7,4)"
   ]
  },
  {
   "cell_type": "code",
   "execution_count": null,
   "id": "fc7cb1eb",
   "metadata": {},
   "outputs": [],
   "source": [
    "data"
   ]
  },
  {
   "cell_type": "code",
   "execution_count": null,
   "id": "561e070c",
   "metadata": {},
   "outputs": [],
   "source": [
    "data[data < 0] = 0"
   ]
  },
  {
   "cell_type": "code",
   "execution_count": null,
   "id": "1ab83981",
   "metadata": {},
   "outputs": [],
   "source": [
    "data"
   ]
  },
  {
   "cell_type": "markdown",
   "id": "e1104b2d",
   "metadata": {},
   "source": [
    "### 1.5 数组转置和轴对换\n",
    "注：transpose、swapaxes: 返回源数据的视图（不会进⾏任何复制操作）"
   ]
  },
  {
   "cell_type": "code",
   "execution_count": null,
   "id": "abee4b80",
   "metadata": {},
   "outputs": [],
   "source": [
    "arr = np.random.randn(4,3)\n",
    "arr"
   ]
  },
  {
   "cell_type": "code",
   "execution_count": null,
   "id": "816c34c8",
   "metadata": {},
   "outputs": [],
   "source": [
    "arr.T"
   ]
  },
  {
   "cell_type": "code",
   "execution_count": null,
   "id": "4f85e75f",
   "metadata": {},
   "outputs": [],
   "source": [
    "# 矩阵相乘：等同 np.matmul(arr.T, arr)\n",
    "np.dot(arr, arr.T)"
   ]
  },
  {
   "cell_type": "code",
   "execution_count": null,
   "id": "11394ad1",
   "metadata": {},
   "outputs": [],
   "source": [
    "# 对矩阵轴进行转置：transpose，swapaxes（轴转换）\n",
    "arr = np.arange(16).reshape((2,2,4))\n",
    "arr"
   ]
  },
  {
   "cell_type": "code",
   "execution_count": null,
   "id": "f5bc70f9",
   "metadata": {},
   "outputs": [],
   "source": [
    "arr.transpose((1,0,2))"
   ]
  },
  {
   "cell_type": "markdown",
   "id": "e09796b0",
   "metadata": {},
   "source": [
    "## 2 通用函数：快速的元素级数组函数"
   ]
  },
  {
   "cell_type": "code",
   "execution_count": null,
   "id": "19a15ac2",
   "metadata": {},
   "outputs": [],
   "source": [
    "arr = np.array([1,2,3])\n",
    "print(np.sqrt(arr))  # 开方\n",
    "print(np.exp(arr))  # e的x次方"
   ]
  },
  {
   "cell_type": "code",
   "execution_count": null,
   "id": "9c42767f",
   "metadata": {},
   "outputs": [],
   "source": [
    "\n",
    "arr2 = np.array([2,2,3])\n",
    "np.add(arr, arr2)"
   ]
  },
  {
   "cell_type": "code",
   "execution_count": null,
   "id": "e790f791",
   "metadata": {},
   "outputs": [],
   "source": [
    "np.subtract(arr, arr2)"
   ]
  },
  {
   "cell_type": "markdown",
   "id": "6b228564",
   "metadata": {},
   "source": [
    "### 2.3 利用数组进行数据处理"
   ]
  },
  {
   "cell_type": "code",
   "execution_count": null,
   "id": "9e87578b",
   "metadata": {},
   "outputs": [],
   "source": [
    "# 例1\n",
    "points = np.arange(-5, 5, 0.01)\n",
    "points"
   ]
  },
  {
   "cell_type": "code",
   "execution_count": null,
   "id": "55dd0b1c",
   "metadata": {},
   "outputs": [],
   "source": [
    "import numpy as np\n",
    "xs,ys = np.meshgrid(points, points)  # meshgrid函数：接受两个一维数组生成两个二维矩阵\n",
    "print(xs)\n",
    "print(ys)"
   ]
  },
  {
   "cell_type": "code",
   "execution_count": null,
   "id": "19b42f02",
   "metadata": {},
   "outputs": [],
   "source": [
    "z = np.sqrt(xs ** 2 + ys ** 2)\n",
    "z"
   ]
  },
  {
   "cell_type": "code",
   "execution_count": null,
   "id": "0e350b7a",
   "metadata": {},
   "outputs": [],
   "source": [
    "import matplotlib.pyplot as plt\n",
    "plt.imshow(z, cmap=plt.cm.gray); plt.colorbar()\n",
    "plt.title(\"Image plot of $\\sqrt{x^2 + y^2}$ for a grid of values\")"
   ]
  },
  {
   "cell_type": "code",
   "execution_count": null,
   "id": "9d6f51dd",
   "metadata": {},
   "outputs": [],
   "source": [
    "# 例2\n",
    "points = np.arange(-2,2,0.5)\n",
    "xs,ys = np.meshgrid(points, points)\n",
    "print(xs)\n",
    "print(ys)"
   ]
  },
  {
   "cell_type": "code",
   "execution_count": null,
   "id": "5ec2455f",
   "metadata": {},
   "outputs": [],
   "source": [
    "z = np.sqrt(xs ** 2 + ys ** 2)\n",
    "z"
   ]
  },
  {
   "cell_type": "code",
   "execution_count": null,
   "id": "8257a632",
   "metadata": {},
   "outputs": [],
   "source": [
    "import matplotlib.pyplot as plt\n",
    "plt.imshow(z, cmap=plt.cm.gray); plt.colorbar()\n",
    "plt.title(\"Image plot of $\\sqrt{x^2 + y^2}$ for a grid of values\")"
   ]
  },
  {
   "cell_type": "code",
   "execution_count": null,
   "id": "d53e5b3b",
   "metadata": {},
   "outputs": [],
   "source": [
    "import numpy as np\n",
    "xarr = np.array([1.1, 1.2, 1.3, 1.4, 1.5])\n",
    "yarr = np.array([2.1, 2.2, 2.3, 2.4, 2.5])\n",
    "cond = np.array([True, False, True, False, True])\n",
    "result = [(x if c else y)\n",
    "          for  x, y, c in zip(xarr, yarr, cond)]\n",
    "result"
   ]
  },
  {
   "cell_type": "code",
   "execution_count": null,
   "id": "315e0dfa",
   "metadata": {},
   "outputs": [],
   "source": [
    "result = np.where(cond, xarr, yarr)\n",
    "result"
   ]
  },
  {
   "cell_type": "code",
   "execution_count": null,
   "id": "032ce5bc",
   "metadata": {},
   "outputs": [],
   "source": [
    "arr = np.random.randn(4,4)\n",
    "arr"
   ]
  },
  {
   "cell_type": "code",
   "execution_count": null,
   "id": "684d9530",
   "metadata": {},
   "outputs": [],
   "source": [
    "arr > 0 "
   ]
  },
  {
   "cell_type": "code",
   "execution_count": null,
   "id": "bea2a867",
   "metadata": {},
   "outputs": [],
   "source": [
    "np.where(arr>0, 2, -2)"
   ]
  },
  {
   "cell_type": "markdown",
   "id": "cf13cc54",
   "metadata": {},
   "source": [
    "### 2.4 数学和统计方法"
   ]
  },
  {
   "cell_type": "code",
   "execution_count": null,
   "id": "4e603e68",
   "metadata": {},
   "outputs": [],
   "source": [
    "import numpy as np\n",
    "arr = np.random.randint(0, 21, (2,2))\n",
    "arr"
   ]
  },
  {
   "cell_type": "code",
   "execution_count": null,
   "id": "9b2ae49c",
   "metadata": {},
   "outputs": [],
   "source": [
    "arr.sum()"
   ]
  },
  {
   "cell_type": "code",
   "execution_count": null,
   "id": "04c928ab",
   "metadata": {},
   "outputs": [],
   "source": [
    "arr.mean()  # 平均值"
   ]
  },
  {
   "cell_type": "code",
   "execution_count": null,
   "id": "f01f9a9b",
   "metadata": {},
   "outputs": [],
   "source": [
    "arr.var()  # 方差（ np.var(arr)"
   ]
  },
  {
   "cell_type": "code",
   "execution_count": null,
   "id": "d5d3da66",
   "metadata": {},
   "outputs": [],
   "source": [
    "arr.std()  # 标准差"
   ]
  },
  {
   "cell_type": "code",
   "execution_count": null,
   "id": "371b2666",
   "metadata": {},
   "outputs": [],
   "source": [
    "arr.mean(axis=1)  # 计算每行的平均值"
   ]
  },
  {
   "cell_type": "code",
   "execution_count": null,
   "id": "68e22f4c",
   "metadata": {},
   "outputs": [],
   "source": [
    "arr.cumprod(axis=0)  # 按列累乘"
   ]
  },
  {
   "cell_type": "code",
   "execution_count": null,
   "id": "e47fb62e",
   "metadata": {},
   "outputs": [],
   "source": [
    "arr.cumsum(axis=1)  # 按行累加"
   ]
  },
  {
   "cell_type": "markdown",
   "id": "d428c267",
   "metadata": {},
   "source": [
    "### 2.5 唯一化以及其它的集合逻辑"
   ]
  },
  {
   "cell_type": "code",
   "execution_count": null,
   "id": "bf0bc2f0",
   "metadata": {},
   "outputs": [],
   "source": [
    "values = np.array([6, 0, 0, 3, 2, 5, 6])\n",
    "values2 = np.array([1, 10, 2, 5])\n",
    "np.unique(values)"
   ]
  },
  {
   "cell_type": "code",
   "execution_count": null,
   "id": "182dcc51",
   "metadata": {},
   "outputs": [],
   "source": [
    "sorted(set(values))"
   ]
  },
  {
   "cell_type": "code",
   "execution_count": null,
   "id": "4bcc3bd9",
   "metadata": {},
   "outputs": [],
   "source": [
    "np.in1d(values, [2, 3, 6])"
   ]
  },
  {
   "cell_type": "code",
   "execution_count": null,
   "id": "8d473dc1",
   "metadata": {},
   "outputs": [],
   "source": [
    "np.intersect1d(values, values2)  # 交集排序"
   ]
  },
  {
   "cell_type": "code",
   "execution_count": null,
   "id": "477b67d6",
   "metadata": {},
   "outputs": [],
   "source": [
    "np.union1d(values, values2)  # 并集排序"
   ]
  },
  {
   "cell_type": "code",
   "execution_count": null,
   "id": "70df0e9a",
   "metadata": {},
   "outputs": [],
   "source": [
    "np.setxor1d(values, values2)  # 对称差"
   ]
  },
  {
   "cell_type": "code",
   "execution_count": null,
   "id": "be7e4222",
   "metadata": {},
   "outputs": [],
   "source": [
    "np.setdiff1d(values, values2)  # 存在于values，不存在于values2"
   ]
  },
  {
   "cell_type": "markdown",
   "id": "0ecae84b",
   "metadata": {},
   "source": [
    "## 3 数组的文件输入输出"
   ]
  },
  {
   "cell_type": "code",
   "execution_count": null,
   "id": "c8cd5233",
   "metadata": {},
   "outputs": [],
   "source": [
    "import numpy as np\n",
    "arr = np.arange(10)\n",
    "np.save('some_array', arr)"
   ]
  },
  {
   "cell_type": "code",
   "execution_count": null,
   "id": "0fd768df",
   "metadata": {},
   "outputs": [],
   "source": [
    "np.load('ch04/some_array.npy')"
   ]
  },
  {
   "cell_type": "code",
   "execution_count": null,
   "id": "ba48bbaf",
   "metadata": {},
   "outputs": [],
   "source": [
    "np.savez('ch04/array_archive.npz', a=arr, b=arr)"
   ]
  },
  {
   "cell_type": "code",
   "execution_count": null,
   "id": "dc9cde59",
   "metadata": {},
   "outputs": [],
   "source": [
    "arch = np.load('ch04/array_archive.npz')\n",
    "arch"
   ]
  },
  {
   "cell_type": "code",
   "execution_count": null,
   "id": "16f6d514",
   "metadata": {},
   "outputs": [],
   "source": [
    "arch['a']"
   ]
  },
  {
   "cell_type": "code",
   "execution_count": null,
   "id": "7a1f43aa",
   "metadata": {},
   "outputs": [],
   "source": [
    "arch['b']"
   ]
  },
  {
   "cell_type": "markdown",
   "id": "77a2bb87",
   "metadata": {},
   "source": [
    "## 4 线性代数"
   ]
  },
  {
   "cell_type": "code",
   "execution_count": null,
   "id": "c82604d6",
   "metadata": {},
   "outputs": [],
   "source": [
    "import numpy as np\n",
    "np.ones(3)"
   ]
  },
  {
   "cell_type": "code",
   "execution_count": null,
   "id": "5482cdf2",
   "metadata": {},
   "outputs": [],
   "source": [
    "x = np.array([[1,2,3],[4,5,6]])\n",
    "x.T"
   ]
  },
  {
   "cell_type": "code",
   "execution_count": null,
   "id": "358545bd",
   "metadata": {},
   "outputs": [],
   "source": [
    "np.dot(x,np.ones(3))"
   ]
  },
  {
   "cell_type": "code",
   "execution_count": null,
   "id": "d293eb2c",
   "metadata": {},
   "outputs": [],
   "source": [
    "x @ np.ones(3)"
   ]
  },
  {
   "cell_type": "code",
   "execution_count": null,
   "id": "c6de895a",
   "metadata": {},
   "outputs": [],
   "source": [
    "from numpy.linalg import inv, qr"
   ]
  },
  {
   "cell_type": "code",
   "execution_count": null,
   "id": "3e17066d",
   "metadata": {},
   "outputs": [],
   "source": [
    "arr1 = np.array([[ 1, 2],\n",
    "                 [-1,-3]])\n",
    "inv(arr1)  # arr1的逆矩阵"
   ]
  },
  {
   "cell_type": "code",
   "execution_count": null,
   "id": "f4998902",
   "metadata": {},
   "outputs": [],
   "source": [
    "q, r = qr(arr1)  # 正交三角\n",
    "r"
   ]
  },
  {
   "cell_type": "code",
   "execution_count": null,
   "id": "81f6921f",
   "metadata": {},
   "outputs": [],
   "source": [
    "q"
   ]
  },
  {
   "cell_type": "markdown",
   "id": "871f7f97",
   "metadata": {},
   "source": [
    "## 5 伪随机数生成"
   ]
  },
  {
   "cell_type": "code",
   "execution_count": null,
   "id": "69a5c319",
   "metadata": {},
   "outputs": [],
   "source": [
    "import numpy as np\n",
    "a = np.random.normal(size=(4, 4))\n",
    "a"
   ]
  },
  {
   "cell_type": "markdown",
   "id": "dfe1bbb4",
   "metadata": {},
   "source": [
    "### 5.1 示例：随机漫步"
   ]
  },
  {
   "cell_type": "code",
   "execution_count": null,
   "id": "b877fc46",
   "metadata": {},
   "outputs": [],
   "source": [
    "import random\n",
    "import numpy as np"
   ]
  },
  {
   "cell_type": "code",
   "execution_count": null,
   "id": "6c2760d6",
   "metadata": {},
   "outputs": [],
   "source": [
    "# 1.内置random\n",
    "import matplotlib.pyplot as plt\n",
    "position = 0\n",
    "walk = [position]\n",
    "for i in range(1000):\n",
    "    step = 1 if random.randint(0,1) else -1\n",
    "    position += step\n",
    "    walk.append(position)\n",
    "\n",
    "plt.plot(walk[:100])    "
   ]
  },
  {
   "cell_type": "code",
   "execution_count": null,
   "id": "d0eec83f",
   "metadata": {},
   "outputs": [],
   "source": [
    "# 2.numpy的random\n",
    "nsteps = 1000\n",
    "draws = np.random.randint(0, 2, size=nsteps)\n",
    "steps = np.where(draws > 0, 1, -1)\n",
    "walk = steps.cumsum()"
   ]
  },
  {
   "cell_type": "code",
   "execution_count": null,
   "id": "18b4d8a9",
   "metadata": {},
   "outputs": [],
   "source": [
    "draws[:10]"
   ]
  },
  {
   "cell_type": "code",
   "execution_count": null,
   "id": "15cbd43a",
   "metadata": {},
   "outputs": [],
   "source": [
    "steps[:10]"
   ]
  },
  {
   "cell_type": "code",
   "execution_count": null,
   "id": "089c703b",
   "metadata": {},
   "outputs": [],
   "source": [
    "walk[:10]"
   ]
  },
  {
   "cell_type": "code",
   "execution_count": null,
   "id": "8a21e55c",
   "metadata": {},
   "outputs": [],
   "source": [
    "True in (np.abs(walk)>=10)   # 确认是否存在往某一方向连续走了10步"
   ]
  },
  {
   "cell_type": "code",
   "execution_count": null,
   "id": "f1f364a7",
   "metadata": {},
   "outputs": [],
   "source": [
    "(np.abs(walk)>=10).argmax()   # 确认第一次连续走了10步或以上的位置，此处是第一个true的位置"
   ]
  },
  {
   "cell_type": "code",
   "execution_count": null,
   "id": "bd7ce175",
   "metadata": {},
   "outputs": [],
   "source": [
    "# 一次性模拟多次随机漫步\n",
    "nwalks = 5000\n",
    "nsteps = 1000\n",
    "draws = np.random.randint(0, 2, size=(nwalks,nsteps))\n",
    "steps = np.where(draws > 0, 1, -1)\n",
    "walks = steps.cumsum(1)  # 按行累加\n",
    "walks[:5]"
   ]
  },
  {
   "cell_type": "code",
   "execution_count": null,
   "id": "39f1f881",
   "metadata": {},
   "outputs": [],
   "source": [
    "print(walks.max())\n",
    "print(walks.min())"
   ]
  },
  {
   "cell_type": "code",
   "execution_count": null,
   "id": "c5ff626e",
   "metadata": {},
   "outputs": [],
   "source": [
    "hits30 = (np.abs(walks) >= 30).any(1)  # any(1)函数表示每行满足步数大于等于30条件的返回布尔值\n",
    "hits30"
   ]
  },
  {
   "cell_type": "code",
   "execution_count": null,
   "id": "37a8a11f",
   "metadata": {},
   "outputs": [],
   "source": [
    "hits30.sum()"
   ]
  },
  {
   "cell_type": "markdown",
   "id": "2dbaa62d",
   "metadata": {},
   "source": [
    "## 6 Pandas"
   ]
  },
  {
   "cell_type": "markdown",
   "id": "36958f06",
   "metadata": {},
   "source": [
    "### 6.1 数据结构--Series"
   ]
  },
  {
   "cell_type": "code",
   "execution_count": 2,
   "id": "88c9f476",
   "metadata": {},
   "outputs": [
    {
     "data": {
      "text/plain": [
       "0    4\n",
       "1    7\n",
       "2   -5\n",
       "3    3\n",
       "dtype: int64"
      ]
     },
     "execution_count": 2,
     "metadata": {},
     "output_type": "execute_result"
    }
   ],
   "source": [
    "import pandas as pd\n",
    "obj = pd.Series([4, 7, -5, 3])\n",
    "obj"
   ]
  },
  {
   "cell_type": "code",
   "execution_count": 3,
   "id": "5a0018a3",
   "metadata": {},
   "outputs": [
    {
     "data": {
      "text/plain": [
       "RangeIndex(start=0, stop=4, step=1)"
      ]
     },
     "execution_count": 3,
     "metadata": {},
     "output_type": "execute_result"
    }
   ],
   "source": [
    "obj.index"
   ]
  },
  {
   "cell_type": "markdown",
   "id": "6a065ae6",
   "metadata": {},
   "source": [
    "### 6.2 数据结构--DataFrame"
   ]
  }
 ],
 "metadata": {
  "kernelspec": {
   "display_name": "Python 3 (ipykernel)",
   "language": "python",
   "name": "python3"
  },
  "language_info": {
   "codemirror_mode": {
    "name": "ipython",
    "version": 3
   },
   "file_extension": ".py",
   "mimetype": "text/x-python",
   "name": "python",
   "nbconvert_exporter": "python",
   "pygments_lexer": "ipython3",
   "version": "3.9.13"
  }
 },
 "nbformat": 4,
 "nbformat_minor": 5
}
